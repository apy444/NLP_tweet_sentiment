{
 "cells": [
  {
   "cell_type": "markdown",
   "metadata": {},
   "source": [
    "## Correlation between Tweet Sentiment and Stock Prices"
   ]
  },
  {
   "cell_type": "code",
   "execution_count": 1,
   "metadata": {},
   "outputs": [],
   "source": [
    "import pandas as pd"
   ]
  },
  {
   "cell_type": "code",
   "execution_count": 2,
   "metadata": {},
   "outputs": [
    {
     "name": "stdout",
     "output_type": "stream",
     "text": [
      "AAPL tweet sentiment correlation with daily price changes\n"
     ]
    },
    {
     "data": {
      "text/plain": [
       "Sent_diff             1.000000\n",
       "Change_within_day     0.163307\n",
       "Change_to_prev_day    0.249312\n",
       "Change_to_next_day    0.066253\n",
       "Name: Sent_diff, dtype: float64"
      ]
     },
     "metadata": {},
     "output_type": "display_data"
    },
    {
     "name": "stdout",
     "output_type": "stream",
     "text": [
      "GOOGL tweet sentiment correlation with daily price changes\n"
     ]
    },
    {
     "data": {
      "text/plain": [
       "Sent_diff             1.000000\n",
       "Change_within_day     0.145150\n",
       "Change_to_prev_day    0.192866\n",
       "Change_to_next_day    0.041937\n",
       "Name: Sent_diff, dtype: float64"
      ]
     },
     "metadata": {},
     "output_type": "display_data"
    },
    {
     "name": "stdout",
     "output_type": "stream",
     "text": [
      "MSFT tweet sentiment correlation with daily price changes\n"
     ]
    },
    {
     "data": {
      "text/plain": [
       "Sent_diff             1.000000\n",
       "Change_within_day     0.139297\n",
       "Change_to_prev_day    0.122006\n",
       "Change_to_next_day    0.020528\n",
       "Name: Sent_diff, dtype: float64"
      ]
     },
     "metadata": {},
     "output_type": "display_data"
    },
    {
     "name": "stdout",
     "output_type": "stream",
     "text": [
      "TSLA tweet sentiment correlation with daily price changes\n"
     ]
    },
    {
     "data": {
      "text/plain": [
       "Sent_diff             1.000000\n",
       "Change_within_day     0.055861\n",
       "Change_to_prev_day    0.109874\n",
       "Change_to_next_day    0.026654\n",
       "Name: Sent_diff, dtype: float64"
      ]
     },
     "metadata": {},
     "output_type": "display_data"
    },
    {
     "name": "stdout",
     "output_type": "stream",
     "text": [
      "AMZN tweet sentiment correlation with daily price changes\n"
     ]
    },
    {
     "data": {
      "text/plain": [
       "Sent_diff             1.000000\n",
       "Change_within_day     0.145804\n",
       "Change_to_prev_day    0.166588\n",
       "Change_to_next_day    0.054869\n",
       "Name: Sent_diff, dtype: float64"
      ]
     },
     "metadata": {},
     "output_type": "display_data"
    }
   ],
   "source": [
    "symbols = ['AAPL', 'GOOGL', 'MSFT', 'TSLA', 'AMZN']\n",
    "\n",
    "for symbol in symbols:\n",
    "    df = pd.read_csv(f'data/{symbol}.csv', index_col='Date')\n",
    "\n",
    "    df['Prev_Close'] = df.shift(1)['Close']\n",
    "    df['Next_Close'] = df.shift(-1)['Close']\n",
    "\n",
    "    df['Change_within_day'] = df.Close - df.Open\n",
    "    df['Change_to_prev_day'] = df.Close - df.Prev_Close\n",
    "    df['Change_to_next_day'] = df.Next_Close - df.Close\n",
    "    df['Sent_diff'] = (df.sentiment_pos - df.sentiment_neg)/(df.sentiment_pos + df.sentiment_neg)\n",
    "\n",
    "    print(f'{symbol} tweet sentiment correlation with daily price changes')\n",
    "    display(df[['Sent_diff', 'Change_within_day', 'Change_to_prev_day', 'Change_to_next_day']].corr().iloc[0, :])"
   ]
  },
  {
   "cell_type": "markdown",
   "metadata": {},
   "source": [
    "### Compare the above correlation with the correlation of the recommended accounts"
   ]
  },
  {
   "cell_type": "code",
   "execution_count": 3,
   "metadata": {},
   "outputs": [
    {
     "data": {
      "text/html": [
       "<div>\n",
       "<style scoped>\n",
       "    .dataframe tbody tr th:only-of-type {\n",
       "        vertical-align: middle;\n",
       "    }\n",
       "\n",
       "    .dataframe tbody tr th {\n",
       "        vertical-align: top;\n",
       "    }\n",
       "\n",
       "    .dataframe thead th {\n",
       "        text-align: right;\n",
       "    }\n",
       "</style>\n",
       "<table border=\"1\" class=\"dataframe\">\n",
       "  <thead>\n",
       "    <tr style=\"text-align: right;\">\n",
       "      <th></th>\n",
       "      <th>company</th>\n",
       "      <th>usr_handle</th>\n",
       "      <th>correlation</th>\n",
       "      <th>tweet_count</th>\n",
       "    </tr>\n",
       "  </thead>\n",
       "  <tbody>\n",
       "    <tr>\n",
       "      <th>0</th>\n",
       "      <td>TSLA</td>\n",
       "      <td>hd52time</td>\n",
       "      <td>0.299244</td>\n",
       "      <td>168.0</td>\n",
       "    </tr>\n",
       "    <tr>\n",
       "      <th>1</th>\n",
       "      <td>TSLA</td>\n",
       "      <td>Stockpro1221</td>\n",
       "      <td>0.280490</td>\n",
       "      <td>156.0</td>\n",
       "    </tr>\n",
       "    <tr>\n",
       "      <th>2</th>\n",
       "      <td>TSLA</td>\n",
       "      <td>iHotStockPicks</td>\n",
       "      <td>0.242819</td>\n",
       "      <td>333.0</td>\n",
       "    </tr>\n",
       "    <tr>\n",
       "      <th>3</th>\n",
       "      <td>TSLA</td>\n",
       "      <td>tq_equities</td>\n",
       "      <td>0.227989</td>\n",
       "      <td>429.0</td>\n",
       "    </tr>\n",
       "    <tr>\n",
       "      <th>4</th>\n",
       "      <td>TSLA</td>\n",
       "      <td>mdela0880</td>\n",
       "      <td>0.221920</td>\n",
       "      <td>189.0</td>\n",
       "    </tr>\n",
       "  </tbody>\n",
       "</table>\n",
       "</div>"
      ],
      "text/plain": [
       "  company      usr_handle  correlation  tweet_count\n",
       "0    TSLA        hd52time     0.299244        168.0\n",
       "1    TSLA    Stockpro1221     0.280490        156.0\n",
       "2    TSLA  iHotStockPicks     0.242819        333.0\n",
       "3    TSLA     tq_equities     0.227989        429.0\n",
       "4    TSLA       mdela0880     0.221920        189.0"
      ]
     },
     "execution_count": 3,
     "metadata": {},
     "output_type": "execute_result"
    }
   ],
   "source": [
    "rec_accounts = pd.read_csv('data/recommended_accounts.csv')\n",
    "rec_accounts.head()"
   ]
  },
  {
   "cell_type": "code",
   "execution_count": 4,
   "metadata": {},
   "outputs": [],
   "source": [
    "symbols = ['AAPL',  'MSFT','GOOGL', 'TSLA', 'AMZN']\n",
    "\n",
    "dataset = dict()\n",
    "\n",
    "for symbol in symbols:\n",
    "    df = pd.read_csv(f'data/{symbol}.csv', index_col='Date')\n",
    "    df['Change_to_prev_day'] = df.Close - df.shift(1)['Close'] #previous day closing price\n",
    "    df['Sent_diff'] = (df.sentiment_pos - df.sentiment_neg)/(df.sentiment_pos + df.sentiment_neg) #relative diff\n",
    "    \n",
    "    tweeters = rec_accounts[rec_accounts.company==symbol]\n",
    "    var_name = symbol +' @'+ tweeters['usr_handle'].iat[0]\n",
    "    dataset[var_name] = tweeters['correlation'].iat[0]\n",
    "    \n",
    "    var_name = symbol +' @'+ tweeters['usr_handle'].iat[1]\n",
    "    dataset[var_name] = tweeters['correlation'].iat[1]\n",
    "    \n",
    "    var_name = symbol + ' all tweets'\n",
    "    dataset[var_name] = df[['Sent_diff', 'Change_to_prev_day']].corr().iat[0,1]"
   ]
  },
  {
   "cell_type": "code",
   "execution_count": 5,
   "metadata": {},
   "outputs": [
    {
     "data": {
      "image/png": "[encoded data removed]",
      "text/plain": [
       "<Figure size 1296x720 with 5 Axes>"
      ]
     },
     "metadata": {
      "needs_background": "light"
     },
     "output_type": "display_data"
    }
   ],
   "source": [
    "import matplotlib.pyplot as plt\n",
    "import seaborn as sns\n",
    "\n",
    "plt.figure(figsize=(18,10))\n",
    "colors = ['#1b5299d0','#1b5299d0', '#1da1f2d0']\n",
    "\n",
    "for i in range(0,5):\n",
    "    ax = plt.subplot(3,2,i+1)\n",
    "    ax.barh(list(dataset.keys())[3*i: 3*(i+1)], list(dataset.values())[3*i: 3*(i+1)], color=colors)\n",
    "    ax.spines['top'].set_visible(False)\n",
    "    ax.spines['right'].set_visible(False)\n",
    "    ax.spines['bottom'].set_visible(False)\n",
    "    for bar in ax.patches:\n",
    "        width = bar.get_width()\n",
    "        plt.text(bar.get_width()*0.98, bar.get_y()+0.55*bar.get_height(),\n",
    "             '{:1.2f}'.format(width), ha='right', va='center', color='white')\n",
    "    ax.set_title(symbols[i])\n",
    "\n",
    "plt.tight_layout\n",
    "plt.show()"
   ]
  },
  {
   "cell_type": "code",
   "execution_count": null,
   "metadata": {},
   "outputs": [],
   "source": []
  }
 ],
 "metadata": {
  "kernelspec": {
   "display_name": "Python 3",
   "language": "python",
   "name": "python3"
  },
  "language_info": {
   "codemirror_mode": {
    "name": "ipython",
    "version": 3
   },
   "file_extension": ".py",
   "mimetype": "text/x-python",
   "name": "python",
   "nbconvert_exporter": "python",
   "pygments_lexer": "ipython3",
   "version": "3.8.5"
  }
 },
 "nbformat": 4,
 "nbformat_minor": 4
}
