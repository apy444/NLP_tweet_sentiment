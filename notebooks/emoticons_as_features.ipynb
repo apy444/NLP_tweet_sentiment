{
 "cells": [
  {
   "cell_type": "markdown",
   "metadata": {},
   "source": [
    "## Stock Sentiment - Test Emoticons as features"
   ]
  },
  {
   "cell_type": "code",
   "execution_count": 1,
   "metadata": {},
   "outputs": [],
   "source": [
    "# conda install -c conda-forge spacy\n",
    "# pip install spacy && python -m spacy download en\n",
    "\n",
    "# import nltk\n",
    "# nltk.download('stopwords')\n",
    "\n",
    "import pandas as pd\n",
    "from nltk.corpus import stopwords\n",
    "import spacy\n",
    "import string\n",
    "import re\n",
    "import numpy as np\n",
    "import matplotlib.pyplot as plt\n",
    "import seaborn as sns"
   ]
  },
  {
   "cell_type": "markdown",
   "metadata": {},
   "source": [
    "### Function to get emoticons"
   ]
  },
  {
   "cell_type": "markdown",
   "metadata": {},
   "source": [
    "Source of emoticons:     \n",
    "https://en.wikipedia.org/wiki/List_of_emoticons"
   ]
  },
  {
   "cell_type": "code",
   "execution_count": 2,
   "metadata": {},
   "outputs": [
    {
     "name": "stdout",
     "output_type": "stream",
     "text": [
      "(?:^|\\s)(:‑\\)|:\\)|:-]|:]|:-3|:3|:->|:>|8-\\)|8\\)|:-}|:}|:o\\)|:c\\)|:^\\)|:‑D|:D|8‑D|8D|x‑D|xD|X‑D|XD|=D|=3|B^D|c:|C:|:-\\)\\)|:'‑\\)|:'\\)|;‑\\)|;\\)|\\*-\\)|\\*\\)|;‑]|;]|;^\\)|;>|:‑,|;D)(?:$|\\s)\n",
      "\n",
      "(?:^|\\s)(:‑\\(|:\\(|:‑c|:c|:‑<|:<|:‑[|:[|:-\\|\\||>:[|:{|:@|:\\(|;\\(|:'‑\\(|:'\\(|D‑':|D:<|D:|D8|D;|D=|DX|:‑O|:O|:‑o|:o|:\\-0|8‑0|>:O|;]|:\\$|://\\)|://3|:‑J|:‑\\||:\\|)(?:$|\\s)\n"
     ]
    }
   ],
   "source": [
    "# read from file\n",
    "neg_emoticons = pd.read_csv('emoticons/emoticons.csv')['negative'].dropna().tolist()\n",
    "pos_emoticons = pd.read_csv('emoticons/emoticons.csv')['positive'].tolist()\n",
    "\n",
    "# create pattern from positvie emoticons\n",
    "pattern_pos =  \"|\".join(pos_emoticons).replace(\"`\", \"\").replace(\")\", \"\\)\").replace(\"*\", \"\\*\")\n",
    "pattern_pos = \"(?:^|\\\\s)(\" + pattern_pos +\")(?:$|\\\\s)\"\n",
    "print(pattern_pos)\n",
    "\n",
    "# create pattern from negative emoticons\n",
    "neg_emoticons = [e.replace(\"|\", \"\\|\") for e in neg_emoticons]\n",
    "pattern_neg =  \"|\".join(neg_emoticons).replace(\"(\", \"\\(\").replace(\"$\", \"\\$\").replace(\")\", \"\\)\").replace(':-0|', ':\\-0|')\n",
    "pattern_neg = \"(?:^|\\\\s)(\" + pattern_neg +\")(?:$|\\\\s)\"\n",
    "print('\\n'+pattern_neg)"
   ]
  },
  {
   "cell_type": "code",
   "execution_count": 3,
   "metadata": {},
   "outputs": [],
   "source": [
    "def count_pos_emoticons(text):\n",
    "    import re\n",
    "    return len(re.findall(pattern_pos, text))\n",
    "\n",
    "def count_neg_emoticons(text):\n",
    "    import re\n",
    "    return len(re.findall(pattern_neg, text))"
   ]
  },
  {
   "cell_type": "markdown",
   "metadata": {},
   "source": [
    "### Calculate the proportion of text with emoticons"
   ]
  },
  {
   "cell_type": "code",
   "execution_count": 4,
   "metadata": {},
   "outputs": [
    {
     "name": "stdout",
     "output_type": "stream",
     "text": [
      "Proportion of text with emoticons:\n",
      "AAPL: 0.259%\n",
      "GOOGL: 0.246%\n",
      "TSLA: 0.342%\n",
      "AMZN: 0.279%\n",
      "MSFT: 0.135%\n"
     ]
    }
   ],
   "source": [
    "companies = ['AAPL', 'GOOGL', 'TSLA', 'AMZN', 'MSFT']\n",
    "print(\"Proportion of text with emoticons:\")\n",
    "for co in companies:\n",
    "    temp_df = pd.read_csv(f'sentiment_data/{co}_sentiment.csv')\n",
    "    temp_df['pos_emo']= temp_df.text.apply(count_pos_emoticons)\n",
    "    temp_df['neg_emo'] = temp_df.text.apply(count_neg_emoticons)\n",
    "    \n",
    "    prop_emoticons = len(temp_df[(temp_df['pos_emo']>0) | (temp_df['neg_emo']>0)])/len(temp_df)\n",
    "    print(f'{co}: {prop_emoticons:.3%}')"
   ]
  },
  {
   "cell_type": "markdown",
   "metadata": {},
   "source": [
    "The very low proportion of tweets with emoticons makes this feature marginal in a classification model."
   ]
  },
  {
   "cell_type": "code",
   "execution_count": null,
   "metadata": {},
   "outputs": [],
   "source": []
  }
 ],
 "metadata": {
  "kernelspec": {
   "display_name": "Python 3",
   "language": "python",
   "name": "python3"
  },
  "language_info": {
   "codemirror_mode": {
    "name": "ipython",
    "version": 3
   },
   "file_extension": ".py",
   "mimetype": "text/x-python",
   "name": "python",
   "nbconvert_exporter": "python",
   "pygments_lexer": "ipython3",
   "version": "3.8.5"
  }
 },
 "nbformat": 4,
 "nbformat_minor": 4
}
