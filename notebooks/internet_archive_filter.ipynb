{
 "cells": [
  {
   "cell_type": "code",
   "execution_count": 1,
   "id": "musical-point",
   "metadata": {},
   "outputs": [
    {
     "data": {
      "application/vnd.jupyter.widget-view+json": {
       "model_id": "22072ef6d11d4e34828ee5382306fe99",
       "version_major": 2,
       "version_minor": 0
      },
      "text/plain": [
       "VBox()"
      ]
     },
     "metadata": {},
     "output_type": "display_data"
    },
    {
     "name": "stdout",
     "output_type": "stream",
     "text": [
      "Starting Spark application\n"
     ]
    },
    {
     "data": {
      "text/html": [
       "<table>\n",
       "<tr><th>ID</th><th>YARN Application ID</th><th>Kind</th><th>State</th><th>Spark UI</th><th>Driver log</th><th>Current session?</th></tr><tr><td>0</td><td>application_1617376874076_0001</td><td>pyspark</td><td>idle</td><td><a target=\"_blank\" href=\"http://ip-172-31-46-144.ec2.internal:20888/proxy/application_1617376874076_0001/\" class=\"emr-proxy-link\" emr-resource=\"j-20J0BW6WBU8EC\n",
       "\" application-id=\"application_1617376874076_0001\">Link</a></td><td><a target=\"_blank\" href=\"http://ip-172-31-32-144.ec2.internal:8042/node/containerlogs/container_1617376874076_0001_01_000001/livy\" >Link</a></td><td>✔</td></tr></table>"
      ],
      "text/plain": [
       "<IPython.core.display.HTML object>"
      ]
     },
     "metadata": {},
     "output_type": "display_data"
    },
    {
     "data": {
      "application/vnd.jupyter.widget-view+json": {
       "model_id": "",
       "version_major": 2,
       "version_minor": 0
      },
      "text/plain": [
       "FloatProgress(value=0.0, bar_style='info', description='Progress:', layout=Layout(height='25px', width='50%'),…"
      ]
     },
     "metadata": {},
     "output_type": "display_data"
    },
    {
     "name": "stdout",
     "output_type": "stream",
     "text": [
      "SparkSession available as 'spark'.\n"
     ]
    },
    {
     "data": {
      "application/vnd.jupyter.widget-view+json": {
       "model_id": "",
       "version_major": 2,
       "version_minor": 0
      },
      "text/plain": [
       "FloatProgress(value=0.0, bar_style='info', description='Progress:', layout=Layout(height='25px', width='50%'),…"
      ]
     },
     "metadata": {},
     "output_type": "display_data"
    }
   ],
   "source": [
    "from pyspark.sql import SQLContext\n",
    "\n",
    "sc\n",
    "sqlContext = SQLContext(sc)"
   ]
  },
  {
   "cell_type": "code",
   "execution_count": 34,
   "id": "antique-tourism",
   "metadata": {},
   "outputs": [
    {
     "data": {
      "application/vnd.jupyter.widget-view+json": {
       "model_id": "c5cf14f772434ba4aed68973937b9aba",
       "version_major": 2,
       "version_minor": 0
      },
      "text/plain": [
       "VBox()"
      ]
     },
     "metadata": {},
     "output_type": "display_data"
    },
    {
     "data": {
      "application/vnd.jupyter.widget-view+json": {
       "model_id": "",
       "version_major": 2,
       "version_minor": 0
      },
      "text/plain": [
       "FloatProgress(value=0.0, bar_style='info', description='Progress:', layout=Layout(height='25px', width='50%'),…"
      ]
     },
     "metadata": {},
     "output_type": "display_data"
    }
   ],
   "source": [
    "companies = sqlContext.read.option(\"header\", True).csv('s3://cse6242-scasalis3/s_and_p_500_list.csv')"
   ]
  },
  {
   "cell_type": "code",
   "execution_count": 3,
   "id": "passing-maria",
   "metadata": {},
   "outputs": [
    {
     "data": {
      "application/vnd.jupyter.widget-view+json": {
       "model_id": "7b5bd8d37df044a2a9a42701d50faa67",
       "version_major": 2,
       "version_minor": 0
      },
      "text/plain": [
       "VBox()"
      ]
     },
     "metadata": {},
     "output_type": "display_data"
    },
    {
     "data": {
      "application/vnd.jupyter.widget-view+json": {
       "model_id": "",
       "version_major": 2,
       "version_minor": 0
      },
      "text/plain": [
       "FloatProgress(value=0.0, bar_style='info', description='Progress:', layout=Layout(height='25px', width='50%'),…"
      ]
     },
     "metadata": {},
     "output_type": "display_data"
    },
    {
     "name": "stdout",
     "output_type": "stream",
     "text": [
      "+------+--------------------+--------------------+\n",
      "|Symbol|                Name|              Sector|\n",
      "+------+--------------------+--------------------+\n",
      "|   MMM|          3M Company|         Industrials|\n",
      "|   AOS|     A.O. Smith Corp|         Industrials|\n",
      "|   ABT| Abbott Laboratories|         Health Care|\n",
      "|  ABBV|         AbbVie Inc.|         Health Care|\n",
      "|  ABMD|             Abiomed|         Health Care|\n",
      "|   ACN|           Accenture|Information Techn...|\n",
      "|  ATVI| Activision Blizzard|Communication Ser...|\n",
      "|  ADBE|          Adobe Inc.|Information Techn...|\n",
      "|   AAP|  Advance Auto Parts|Consumer Discreti...|\n",
      "|   AMD|Advanced Micro De...|Information Techn...|\n",
      "|   AES|            AES Corp|           Utilities|\n",
      "|   AFL|               Aflac|          Financials|\n",
      "|     A|Agilent Technologies|         Health Care|\n",
      "|   APD|Air Products & Ch...|           Materials|\n",
      "|  AKAM| Akamai Technologies|Information Techn...|\n",
      "|   ALK|    Alaska Air Group|         Industrials|\n",
      "|   ALB|Albemarle Corpora...|           Materials|\n",
      "|   ARE|Alexandria Real E...|         Real Estate|\n",
      "|  ALXN|Alexion Pharmaceu...|         Health Care|\n",
      "|  ALGN|    Align Technology|         Health Care|\n",
      "+------+--------------------+--------------------+\n",
      "only showing top 20 rows"
     ]
    }
   ],
   "source": [
    "companies.show()"
   ]
  },
  {
   "cell_type": "code",
   "execution_count": 35,
   "id": "killing-religious",
   "metadata": {},
   "outputs": [
    {
     "data": {
      "application/vnd.jupyter.widget-view+json": {
       "model_id": "7d10e173651d4a5ca70584949562de5e",
       "version_major": 2,
       "version_minor": 0
      },
      "text/plain": [
       "VBox()"
      ]
     },
     "metadata": {},
     "output_type": "display_data"
    },
    {
     "data": {
      "application/vnd.jupyter.widget-view+json": {
       "model_id": "",
       "version_major": 2,
       "version_minor": 0
      },
      "text/plain": [
       "FloatProgress(value=0.0, bar_style='info', description='Progress:', layout=Layout(height='25px', width='50%'),…"
      ]
     },
     "metadata": {},
     "output_type": "display_data"
    }
   ],
   "source": [
    "from pyspark.sql.functions import col\n",
    "\n",
    "company_symbols = set(map(lambda x: x[0], \\\n",
    "                          companies.withColumn(\"Symbol\", col(\"Symbol\")).select(\"Symbol\").collect()))"
   ]
  },
  {
   "cell_type": "code",
   "execution_count": 36,
   "id": "grave-windsor",
   "metadata": {},
   "outputs": [
    {
     "data": {
      "application/vnd.jupyter.widget-view+json": {
       "model_id": "43c1ba2804484722b5c0618f594e7c1c",
       "version_major": 2,
       "version_minor": 0
      },
      "text/plain": [
       "VBox()"
      ]
     },
     "metadata": {},
     "output_type": "display_data"
    },
    {
     "data": {
      "application/vnd.jupyter.widget-view+json": {
       "model_id": "",
       "version_major": 2,
       "version_minor": 0
      },
      "text/plain": [
       "FloatProgress(value=0.0, bar_style='info', description='Progress:', layout=Layout(height='25px', width='50%'),…"
      ]
     },
     "metadata": {},
     "output_type": "display_data"
    }
   ],
   "source": [
    "from pyspark.sql.functions import *\n",
    "import itertools\n",
    "\n",
    "def filter_tweets(year_partition, month_partition, day_partition, hour_partition):\n",
    "    tweets = sqlContext.read.json('s3://cse6242-scasalis3/twitter/' + year_partition + '/' + month_partition + '/' + day_partition + '/' + hour_partition + '/', \\\n",
    "                                  samplingRatio = 0.01)\n",
    "    filtered = tweets.filter(col('lang') == 'en') \\\n",
    "                     .withColumn('parsed_created_at', from_unixtime(unix_timestamp('created_at', 'EEE MMM d HH:mm:ss z yyyy'))) \\\n",
    "                     .withColumn('year', year(col('parsed_created_at'))) \\\n",
    "                     .withColumn('month', month(col('parsed_created_at'))) \\\n",
    "                     .withColumn('day', dayofmonth(col('parsed_created_at'))) \\\n",
    "                     .withColumn('hour', hour(col('parsed_created_at'))) \\\n",
    "                     .filter(col('parsed_created_at').isNotNull()) \\\n",
    "                     .withColumn('Symbol', regexp_extract(\"text\", '(^|\\s)(\\b' + '|'.join(map(lambda x: x[0] + x[1], itertools.product(['$', '#'], company_symbols))) + '\\b)(\\s|$)', 2)) \\\n",
    "                     .fillna('', ['Symbol']) \\\n",
    "                     .filter(col('Symbol') != '') \\\n",
    "                     .withColumn('Symbol', expr('substring(Symbol, 2, length(Symbol))')) \\\n",
    "                     .join(companies, 'Symbol', 'left_outer') \\\n",
    "                     .withColumnRenamed('id_str', 'tweet_id') \\\n",
    "                     .withColumnRenamed('Name', 'company_name') \\\n",
    "                     .select('Symbol', 'company_name', 'Sector', 'year', 'month', 'day', 'hour', 'text', 'user.name', \\\n",
    "                             'user.screen_name', 'user.verified', 'user.followers_count', 'user.friends_count', \\\n",
    "                             'user.favourites_count', 'user.statuses_count', 'quote_count', 'reply_count', \\\n",
    "                             'retweet_count', 'favorite_count', 'tweet_id', 'user.id_str')\n",
    "    return (tweets, filtered)\n"
   ]
  },
  {
   "cell_type": "code",
   "execution_count": 37,
   "id": "vanilla-jamaica",
   "metadata": {},
   "outputs": [
    {
     "data": {
      "application/vnd.jupyter.widget-view+json": {
       "model_id": "d0f743d706e34df88a61ecc2f5eb07f1",
       "version_major": 2,
       "version_minor": 0
      },
      "text/plain": [
       "VBox()"
      ]
     },
     "metadata": {},
     "output_type": "display_data"
    },
    {
     "data": {
      "application/vnd.jupyter.widget-view+json": {
       "model_id": "",
       "version_major": 2,
       "version_minor": 0
      },
      "text/plain": [
       "FloatProgress(value=0.0, bar_style='info', description='Progress:', layout=Layout(height='25px', width='50%'),…"
      ]
     },
     "metadata": {},
     "output_type": "display_data"
    }
   ],
   "source": [
    "(all_tweets, filtered_tweets) = filter_tweets('*', '*', '*', '*')"
   ]
  },
  {
   "cell_type": "code",
   "execution_count": null,
   "id": "younger-motel",
   "metadata": {},
   "outputs": [],
   "source": [
    "filtered_tweets.write.partitionBy('Symbol').csv('s3://cse6242-scasalis3/filtered-twitter/')"
   ]
  },
  {
   "cell_type": "code",
   "execution_count": 38,
   "id": "negative-wagon",
   "metadata": {},
   "outputs": [
    {
     "data": {
      "application/vnd.jupyter.widget-view+json": {
       "model_id": "904ee700dafb4f2bb03176195f13fe26",
       "version_major": 2,
       "version_minor": 0
      },
      "text/plain": [
       "VBox()"
      ]
     },
     "metadata": {},
     "output_type": "display_data"
    },
    {
     "data": {
      "application/vnd.jupyter.widget-view+json": {
       "model_id": "",
       "version_major": 2,
       "version_minor": 0
      },
      "text/plain": [
       "FloatProgress(value=0.0, bar_style='info', description='Progress:', layout=Layout(height='25px', width='50%'),…"
      ]
     },
     "metadata": {},
     "output_type": "display_data"
    },
    {
     "name": "stdout",
     "output_type": "stream",
     "text": [
      "918297066"
     ]
    }
   ],
   "source": [
    "all_tweets.count()"
   ]
  },
  {
   "cell_type": "code",
   "execution_count": null,
   "id": "phantom-leeds",
   "metadata": {},
   "outputs": [],
   "source": [
    "filtered_tweets.count()"
   ]
  },
  {
   "cell_type": "code",
   "execution_count": 8,
   "id": "exact-description",
   "metadata": {},
   "outputs": [
    {
     "data": {
      "application/vnd.jupyter.widget-view+json": {
       "model_id": "d59c3989689847919bacb4e9955f3f45",
       "version_major": 2,
       "version_minor": 0
      },
      "text/plain": [
       "VBox()"
      ]
     },
     "metadata": {},
     "output_type": "display_data"
    },
    {
     "data": {
      "application/vnd.jupyter.widget-view+json": {
       "model_id": "",
       "version_major": 2,
       "version_minor": 0
      },
      "text/plain": [
       "FloatProgress(value=0.0, bar_style='info', description='Progress:', layout=Layout(height='25px', width='50%'),…"
      ]
     },
     "metadata": {},
     "output_type": "display_data"
    }
   ],
   "source": [
    "from pyspark.sql.functions import col\n",
    "\n",
    "stock_tags = [\"stockmarket\", \"stocks\", \"stock\", \"trading\", \"market\", \"investing\", \"alpha\", \"seekingalpha\", \\\n",
    "              \"analysis\", \"finance\", \"time\", \"daytrading\", \"business\", \"inc\", \"alphanews\", \"seeking\", \\\n",
    "              \"source\", \"equity\"]\n",
    "\n",
    "company_symbol_tweets = tweets.filter(col('lang') == 'en') \\\n",
    "                              .filter(col(\"text\").rlike('(^|\\s)(\\b' + '|'.join(map(lambda x: \"#\" + x,stock_tags)) + '\\b)(\\s|$)')) \\\n",
    "                              .filter(col(\"text\").rlike('(^|\\s)(\\b' + '|'.join(company_symbols) + '\\b)(\\s|$)')) \\\n",
    "                              .select(\"text\")"
   ]
  },
  {
   "cell_type": "code",
   "execution_count": null,
   "id": "lined-handling",
   "metadata": {
    "scrolled": true
   },
   "outputs": [
    {
     "data": {
      "application/vnd.jupyter.widget-view+json": {
       "model_id": "130ffe9cb74f465a8f44b2406e0accda",
       "version_major": 2,
       "version_minor": 0
      },
      "text/plain": [
       "VBox()"
      ]
     },
     "metadata": {},
     "output_type": "display_data"
    },
    {
     "data": {
      "application/vnd.jupyter.widget-view+json": {
       "model_id": "",
       "version_major": 2,
       "version_minor": 0
      },
      "text/plain": [
       "FloatProgress(value=0.0, bar_style='info', description='Progress:', layout=Layout(height='25px', width='50%'),…"
      ]
     },
     "metadata": {},
     "output_type": "display_data"
    },
    {
     "name": "stdout",
     "output_type": "stream",
     "text": [
      "19"
     ]
    }
   ],
   "source": [
    "company_symbol_tweets.count()"
   ]
  },
  {
   "cell_type": "code",
   "execution_count": 38,
   "id": "circular-evanescence",
   "metadata": {},
   "outputs": [
    {
     "data": {
      "application/vnd.jupyter.widget-view+json": {
       "model_id": "f5d7e5cb7a664a5db294021010aed818",
       "version_major": 2,
       "version_minor": 0
      },
      "text/plain": [
       "VBox()"
      ]
     },
     "metadata": {},
     "output_type": "display_data"
    },
    {
     "data": {
      "application/vnd.jupyter.widget-view+json": {
       "model_id": "",
       "version_major": 2,
       "version_minor": 0
      },
      "text/plain": [
       "FloatProgress(value=0.0, bar_style='info', description='Progress:', layout=Layout(height='25px', width='50%'),…"
      ]
     },
     "metadata": {},
     "output_type": "display_data"
    },
    {
     "name": "stdout",
     "output_type": "stream",
     "text": [
      "[Row(text='$BBIG Announces Closing Of A Merger Agreement. https://t.co/H51dIdaMv8 #wsj #nytimes #business #reuters… https://t.co/GHdQaaQe09'), Row(text='$BSFFF - Basic-Fit: A Risky Bet On An Unexpected Beneficiary From COVID-19. https://t.co/0blFWrts8I #investing #markets #finance'), Row(text='$ALT - Altimmune: A COVID-19 Winner After All. https://t.co/dhzjZn5xd1 #finance #business #stockmarket'), Row(text='RT @sallyeaves: A #FutureReady Deep Dive - #data visualisation to improve #business readiness for #change enabling personalisation &amp; #bigda…')]"
     ]
    }
   ],
   "source": [
    "company_symbol_tweets.limit(100).collect()"
   ]
  },
  {
   "cell_type": "code",
   "execution_count": 36,
   "id": "split-cursor",
   "metadata": {
    "scrolled": true
   },
   "outputs": [
    {
     "data": {
      "application/vnd.jupyter.widget-view+json": {
       "model_id": "fee35776ac7d4e038e6b3b7b2173198c",
       "version_major": 2,
       "version_minor": 0
      },
      "text/plain": [
       "VBox()"
      ]
     },
     "metadata": {},
     "output_type": "display_data"
    },
    {
     "data": {
      "application/vnd.jupyter.widget-view+json": {
       "model_id": "",
       "version_major": 2,
       "version_minor": 0
      },
      "text/plain": [
       "FloatProgress(value=0.0, bar_style='info', description='Progress:', layout=Layout(height='25px', width='50%'),…"
      ]
     },
     "metadata": {},
     "output_type": "display_data"
    },
    {
     "name": "stdout",
     "output_type": "stream",
     "text": [
      "+------+--------------------+----------------+\n",
      "|Symbol|                Name|          Sector|\n",
      "+------+--------------------+----------------+\n",
      "|    PM|Philip Morris Int...|Consumer Staples|\n",
      "+------+--------------------+----------------+"
     ]
    }
   ],
   "source": [
    "companies.filter(col(\"Symbol\") == \"PM\").show()"
   ]
  },
  {
   "cell_type": "code",
   "execution_count": 5,
   "id": "interesting-thought",
   "metadata": {},
   "outputs": [
    {
     "data": {
      "application/vnd.jupyter.widget-view+json": {
       "model_id": "3e82a0b6a6ee449ba30cc22dac62ad33",
       "version_major": 2,
       "version_minor": 0
      },
      "text/plain": [
       "VBox()"
      ]
     },
     "metadata": {},
     "output_type": "display_data"
    },
    {
     "data": {
      "application/vnd.jupyter.widget-view+json": {
       "model_id": "",
       "version_major": 2,
       "version_minor": 0
      },
      "text/plain": [
       "FloatProgress(value=0.0, bar_style='info', description='Progress:', layout=Layout(height='25px', width='50%'),…"
      ]
     },
     "metadata": {},
     "output_type": "display_data"
    },
    {
     "name": "stdout",
     "output_type": "stream",
     "text": [
      "5315307"
     ]
    }
   ],
   "source": [
    "tweets.count()"
   ]
  },
  {
   "cell_type": "code",
   "execution_count": 10,
   "id": "filled-fifth",
   "metadata": {},
   "outputs": [
    {
     "data": {
      "application/vnd.jupyter.widget-view+json": {
       "model_id": "fd10c27068a144fca0b1c8a0e506c8a7",
       "version_major": 2,
       "version_minor": 0
      },
      "text/plain": [
       "VBox()"
      ]
     },
     "metadata": {},
     "output_type": "display_data"
    },
    {
     "data": {
      "application/vnd.jupyter.widget-view+json": {
       "model_id": "",
       "version_major": 2,
       "version_minor": 0
      },
      "text/plain": [
       "FloatProgress(value=0.0, bar_style='info', description='Progress:', layout=Layout(height='25px', width='50%'),…"
      ]
     },
     "metadata": {},
     "output_type": "display_data"
    },
    {
     "name": "stdout",
     "output_type": "stream",
     "text": [
      "1624"
     ]
    }
   ],
   "source": [
    "from pyspark.sql.functions import col\n",
    "import itertools\n",
    "\n",
    "company_symbol_tweets = tweets.filter(col('lang') == 'en') \\\n",
    "                              .filter(col(\"text\").rlike('(^|\\s)(\\b' + '|'.join(map(lambda x: x[0] + x[1], itertools.product(['$', '#'], company_symbols))) + '\\b)(\\s|$)')) \\\n",
    "                              .select(\"text\")\n",
    "\n",
    "company_symbol_tweets.count()"
   ]
  },
  {
   "cell_type": "code",
   "execution_count": 68,
   "id": "hungarian-power",
   "metadata": {},
   "outputs": [
    {
     "data": {
      "application/vnd.jupyter.widget-view+json": {
       "model_id": "5f7c750a52ca41858788f30b1f46e41d",
       "version_major": 2,
       "version_minor": 0
      },
      "text/plain": [
       "VBox()"
      ]
     },
     "metadata": {},
     "output_type": "display_data"
    },
    {
     "data": {
      "application/vnd.jupyter.widget-view+json": {
       "model_id": "",
       "version_major": 2,
       "version_minor": 0
      },
      "text/plain": [
       "FloatProgress(value=0.0, bar_style='info', description='Progress:', layout=Layout(height='25px', width='50%'),…"
      ]
     },
     "metadata": {},
     "output_type": "display_data"
    },
    {
     "name": "stdout",
     "output_type": "stream",
     "text": [
      "218617"
     ]
    }
   ],
   "source": [
    "filtered_tweets = filter_tweets('2021', '01', '01', '01')"
   ]
  },
  {
   "cell_type": "code",
   "execution_count": 69,
   "id": "delayed-tackle",
   "metadata": {},
   "outputs": [
    {
     "data": {
      "application/vnd.jupyter.widget-view+json": {
       "model_id": "179edb2f28f14732aed2ba5e02646344",
       "version_major": 2,
       "version_minor": 0
      },
      "text/plain": [
       "VBox()"
      ]
     },
     "metadata": {},
     "output_type": "display_data"
    },
    {
     "data": {
      "application/vnd.jupyter.widget-view+json": {
       "model_id": "",
       "version_major": 2,
       "version_minor": 0
      },
      "text/plain": [
       "FloatProgress(value=0.0, bar_style='info', description='Progress:', layout=Layout(height='25px', width='50%'),…"
      ]
     },
     "metadata": {},
     "output_type": "display_data"
    },
    {
     "name": "stdout",
     "output_type": "stream",
     "text": [
      "+------+------------+--------------------+----+-----+---+----+--------------------+--------------------+---------------+--------+---------------+-------------+----------------+--------------+-----------+-----------+-------------+--------------+----------------------+\n",
      "|Symbol|        Name|              Sector|year|month|day|hour|                text|                name|    screen_name|verified|followers_count|friends_count|favourites_count|statuses_count|quote_count|reply_count|retweet_count|favorite_count|              hashtags|\n",
      "+------+------------+--------------------+----+-----+---+----+--------------------+--------------------+---------------+--------+---------------+-------------+----------------+--------------+-----------+-----------+-------------+--------------+----------------------+\n",
      "|     K| Kellogg Co.|    Consumer Staples|2021|    1|  1|   8|RT @BigHitEnt_JP:...|             jara ᵕ̈|   jaejaejehyun|   false|           1316|         1310|            8164|         21650|          0|          0|            0|             0|  [[[86, 88], K], [...|\n",
      "|   TXT|Textron Inc.|         Industrials|2021|    1|  1|   8|RT @moaternity: C...|         K •‿• ☽☾⁷ ❈|seokjinie_moonn|   false|            449|          861|           27625|          7016|          0|          0|            0|             0|  [[[85, 89], TXT],...|\n",
      "|     V|   Visa Inc.|Information Techn...|2021|    1|  1|   8|RT @vtaeat: Happy...|        Little TAE🐯|       KTY_3095|   false|             21|          232|           42206|         30828|          0|          0|            0|             0|  [[[28, 30], V], [...|\n",
      "|   TXT|Textron Inc.|         Industrials|2021|    1|  1|   8|RT @Shivika307905...|ᴮᴱKit❈ | lowkey f...|YeonBinsDiciple|   false|            887|         1041|           16858|          9486|          0|          0|            0|             0|  [[[96, 100], TXT]...|\n",
      "|   TXT|Textron Inc.|         Industrials|2021|    1|  1|   8|@daeegyuu @TXT_me...|               quinn|       tyunelly|   false|           1805|         1558|            3668|          2882|          0|          0|            0|             0|  [[[54, 58], TXT],...|\n",
      "|   TXT|Textron Inc.|         Industrials|2021|    1|  1|   8|@moaternity @TXT_...|              aya💜✜|    choijuniiie|   false|            377|          810|           37918|         17951|          0|          0|            0|             0|  [[[80, 84], TXT],...|\n",
      "|   TXT|Textron Inc.|         Industrials|2021|    1|  1|   8|@txtgrand BEST YE...|           ##angel⁷❈|     BL0SS0MTXT|   false|           1764|         3318|          267549|         60686|          0|          0|            0|             0|  [[[29, 33], TXT],...|\n",
      "|     K| Kellogg Co.|    Consumer Staples|2021|    1|  1|   8|RT @BigHitEnt_JP:...|            Faithyyy|    stxrmiskies|   false|             98|          209|            3094|          1469|          0|          0|            0|             0|  [[[86, 88], K], [...|\n",
      "|     K| Kellogg Co.|    Consumer Staples|2021|    1|  1|   8|RT @bighitjpnews:...|               ain🦌|     heedeliaaa|   false|            134|          163|            8250|          3945|          0|          0|            0|             0|  [[[64, 66], K], [...|\n",
      "|     V|   Visa Inc.|Information Techn...|2021|    1|  1|   8|RT @vantegifs: (f...|                  🥺|        ktmybts|   false|             43|          488|            8573|          7702|          0|          0|            0|             0|[[[56, 59], 태형], ...|\n",
      "|   TXT|Textron Inc.|         Industrials|2021|    1|  1|   8|@jjunieblues @tob...|Raine⁷⟭⟬+x+lowkey...|serainedipityyy|   false|             53|          174|            8867|          2221|          0|          0|            0|             0|  [[[74, 78], TXT],...|\n",
      "|   TXT|Textron Inc.|         Industrials|2021|    1|  1|   8|RT @vaniaclar: @M...|           nadiya ✜⁵|temennyaTieksti|   false|              3|           26|             295|           483|          0|          0|            0|             0|  [[[47, 51], TXT],...|\n",
      "|   TXT|Textron Inc.|         Industrials|2021|    1|  1|   8|@beomgyeowo @TXT_...|        ᴮᴱjirachi˖✜⁷|      AGUSTDlLF|   false|           2959|         2919|            4514|         25417|          0|          0|            0|             0|  [[[56, 60], TXT],...|\n",
      "|     K| Kellogg Co.|    Consumer Staples|2021|    1|  1|   8|RT @bighitjpnews:...|            K.AgustD|       KAgustD1|   false|             40|          254|            5199|          4518|          0|          0|            0|             0|[[[64, 67], 케이], ...|\n",
      "|   TXT|Textron Inc.|         Industrials|2021|    1|  1|   8|@princehyukai BES...|         روزا كانينا|silverbongbong7|   false|              5|           71|            1784|          1579|          0|          0|            0|             0|  [[[33, 37], TXT],...|\n",
      "|   TXT|Textron Inc.|         Industrials|2021|    1|  1|   8|BEST YEAR WITH TX...|             ven✜❈🐯|     beomieadan|   false|           1138|         1111|           28863|         17323|          0|          0|            0|             0|  [[[19, 23], TXT],...|\n",
      "|   TXT|Textron Inc.|         Industrials|2021|    1|  1|   8|@soobunns BEST YE...|                   .|     eunwoostzr|   false|            819|          721|            3059|          5001|          0|          0|            0|             0|  [[[29, 33], TXT],...|\n",
      "|   TXT|Textron Inc.|         Industrials|2021|    1|  1|   8|@jjunienisms @TXT...|ᴇɴ-love⁷❈🦌 #Sara...| mrschoiyeonjun|   false|           1127|         1011|           13504|         10788|          0|          0|            0|             0|  [[[71, 75], TXT],...|\n",
      "|     K| Kellogg Co.|    Consumer Staples|2021|    1|  1|   8|RT @bighitjpnews:...|            lulu🧸🍓|      yooonidle|   false|            374|          476|           78080|         43161|          0|          0|            0|             0|[[[64, 67], 케이], ...|\n",
      "|   TXT|Textron Inc.|         Industrials|2021|    1|  1|   8|BEST YEAR WITH TX...|❈ 𝐋𝐢//𝐇𝐮𝐧🍑|...|  TaegyuShipper|   false|            286|          403|            8818|          4383|          0|          0|            0|             0|  [[[19, 23], TXT],...|\n",
      "+------+------------+--------------------+----+-----+---+----+--------------------+--------------------+---------------+--------+---------------+-------------+----------------+--------------+-----------+-----------+-------------+--------------+----------------------+\n",
      "only showing top 20 rows"
     ]
    }
   ],
   "source": [
    "filtered_tweets.show()"
   ]
  },
  {
   "cell_type": "code",
   "execution_count": 27,
   "id": "demonstrated-necessity",
   "metadata": {},
   "outputs": [
    {
     "data": {
      "application/vnd.jupyter.widget-view+json": {
       "model_id": "821cd4dc56f84255becd12d07241d7b4",
       "version_major": 2,
       "version_minor": 0
      },
      "text/plain": [
       "VBox()"
      ]
     },
     "metadata": {},
     "output_type": "display_data"
    },
    {
     "data": {
      "application/vnd.jupyter.widget-view+json": {
       "model_id": "",
       "version_major": 2,
       "version_minor": 0
      },
      "text/plain": [
       "FloatProgress(value=0.0, bar_style='info', description='Progress:', layout=Layout(height='25px', width='50%'),…"
      ]
     },
     "metadata": {},
     "output_type": "display_data"
    },
    {
     "name": "stdout",
     "output_type": "stream",
     "text": [
      "+------+-------+\n",
      "|Symbol|  count|\n",
      "+------+-------+\n",
      "|  INFO|      4|\n",
      "|   NSC|     10|\n",
      "|   FOX|      4|\n",
      "|   CAG|      4|\n",
      "|   ADP|      1|\n",
      "|   CMS|      2|\n",
      "|   GIS|      3|\n",
      "|    MS|      5|\n",
      "|   TSN|      2|\n",
      "|    SO|      2|\n",
      "|   NEM|      2|\n",
      "|    MO|      1|\n",
      "|     D|      6|\n",
      "|    BR|      1|\n",
      "|   ESS|      2|\n",
      "|   ALL|      1|\n",
      "|    DE|      1|\n",
      "|  DISH|      1|\n",
      "|  ULTA|      1|\n",
      "|   PPG|      1|\n",
      "|  GILD|      4|\n",
      "|   WBA|     13|\n",
      "|   MCD|      2|\n",
      "|   ABC|      9|\n",
      "|    FE|      2|\n",
      "|    ED|      3|\n",
      "|    RL|      2|\n",
      "|   SNA|      3|\n",
      "|    RF|      1|\n",
      "|   HST|      1|\n",
      "|   FTV|      1|\n",
      "|   LEN|      1|\n",
      "|    EW|      1|\n",
      "|    GE|      2|\n",
      "|   UPS|      1|\n",
      "|   SLB|      1|\n",
      "|    CL|     14|\n",
      "|     L|      3|\n",
      "|   MLM|      2|\n",
      "|  ETSY|      2|\n",
      "|   IBM|      4|\n",
      "|    NI|      1|\n",
      "|   IFF|      1|\n",
      "|   GPN|      4|\n",
      "|    GM|      4|\n",
      "|   TFC|      2|\n",
      "|   LMT|      2|\n",
      "|    IR|      2|\n",
      "|      |7205287|\n",
      "|     T|      4|\n",
      "|   WEC|      8|\n",
      "|   APH|      2|\n",
      "|   UDR|      1|\n",
      "|   MCO|      1|\n",
      "|    KO|      2|\n",
      "|  CERN|      1|\n",
      "|   HCA|      1|\n",
      "|   MTD|      1|\n",
      "|  AAPL|      1|\n",
      "|    WM|      1|\n",
      "|   TXT|    490|\n",
      "|   PSA|      6|\n",
      "|    GD|      2|\n",
      "|   KEY|     20|\n",
      "|    BA|      8|\n",
      "|   TAP|      1|\n",
      "|    HD|      6|\n",
      "|   SRE|      2|\n",
      "|   AAL|      1|\n",
      "|   ICE|      3|\n",
      "|    IP|      1|\n",
      "|   CAT|      1|\n",
      "|   VMC|      1|\n",
      "|   GPS|     39|\n",
      "|   PSX|      8|\n",
      "|   CMA|      2|\n",
      "|   USB|      2|\n",
      "|  TSLA|      5|\n",
      "|    PM|     18|\n",
      "|  FAST|      4|\n",
      "|    GL|      1|\n",
      "|    EA|      2|\n",
      "|   CRM|      8|\n",
      "|    RE|      5|\n",
      "|   PNW|      1|\n",
      "|   CME|      3|\n",
      "|     F|      2|\n",
      "|   WFC|      1|\n",
      "|   COP|      3|\n",
      "|   CFG|      1|\n",
      "|   AAP|      4|\n",
      "|   PNR|      5|\n",
      "|    LB|      1|\n",
      "|     V|    451|\n",
      "|     C|      8|\n",
      "|     O|      1|\n",
      "|    FB|      4|\n",
      "|    ES|      2|\n",
      "|   AEP|      1|\n",
      "|   DFS|     60|\n",
      "| GOOGL|      1|\n",
      "|   CCI|      1|\n",
      "|    IT|     63|\n",
      "|   STX|      2|\n",
      "|   ABT|     35|\n",
      "|    PH|      1|\n",
      "|   MAS|      2|\n",
      "|   NOW|      7|\n",
      "|  PEAK|      1|\n",
      "|   URI|      1|\n",
      "|  EBAY|      2|\n",
      "|  TWTR|      2|\n",
      "|   YUM|      2|\n",
      "|   COO|      2|\n",
      "|   GPC|      1|\n",
      "|   VAR|     11|\n",
      "|   MGM|      1|\n",
      "|     K|     78|\n",
      "|   AMD|      7|\n",
      "|    UA|      5|\n",
      "|     A|      9|\n",
      "|    DD|      9|\n",
      "|   MMM|      7|\n",
      "|   RTX|      1|\n",
      "|   ETN|      1|\n",
      "|   IRM|      1|\n",
      "|   CNP|      3|\n",
      "|   CHD|      1|\n",
      "|  ANTM|      1|\n",
      "|   SEE|      2|\n",
      "|    WU|      1|\n",
      "|   CDW|      3|\n",
      "|   AFL|      1|\n",
      "|    MA|      9|\n",
      "|   MDT|      1|\n",
      "+------+-------+"
     ]
    }
   ],
   "source": [
    "filtered_tweets.groupBy('Symbol').count().show(1000)"
   ]
  },
  {
   "cell_type": "code",
   "execution_count": 24,
   "id": "fancy-worcester",
   "metadata": {
    "scrolled": true
   },
   "outputs": [
    {
     "data": {
      "application/vnd.jupyter.widget-view+json": {
       "model_id": "6a5a485afa854fcfb04be955c084666c",
       "version_major": 2,
       "version_minor": 0
      },
      "text/plain": [
       "VBox()"
      ]
     },
     "metadata": {},
     "output_type": "display_data"
    },
    {
     "data": {
      "application/vnd.jupyter.widget-view+json": {
       "model_id": "",
       "version_major": 2,
       "version_minor": 0
      },
      "text/plain": [
       "FloatProgress(value=0.0, bar_style='info', description='Progress:', layout=Layout(height='25px', width='50%'),…"
      ]
     },
     "metadata": {},
     "output_type": "display_data"
    },
    {
     "name": "stdout",
     "output_type": "stream",
     "text": [
      "StructType(List(StructField(contributors,StringType,true),StructField(coordinates,StringType,true),StructField(created_at,StringType,true),StructField(delete,StructType(List(StructField(status,StructType(List(StructField(id,LongType,true),StructField(id_str,StringType,true),StructField(user_id,LongType,true),StructField(user_id_str,StringType,true))),true),StructField(timestamp_ms,StringType,true))),true),StructField(display_text_range,ArrayType(LongType,true),true),StructField(entities,StructType(List(StructField(hashtags,ArrayType(StructType(List(StructField(indices,ArrayType(LongType,true),true),StructField(text,StringType,true))),true),true),StructField(media,ArrayType(StructType(List(StructField(additional_media_info,StructType(List(StructField(description,StringType,true),StructField(embeddable,BooleanType,true),StructField(monetizable,BooleanType,true),StructField(title,StringType,true))),true),StructField(description,StringType,true),StructField(display_url,StringType,true),StructField(expanded_url,StringType,true),StructField(id,LongType,true),StructField(id_str,StringType,true),StructField(indices,ArrayType(LongType,true),true),StructField(media_url,StringType,true),StructField(media_url_https,StringType,true),StructField(sizes,StructType(List(StructField(large,StructType(List(StructField(h,LongType,true),StructField(resize,StringType,true),StructField(w,LongType,true))),true),StructField(medium,StructType(List(StructField(h,LongType,true),StructField(resize,StringType,true),StructField(w,LongType,true))),true),StructField(small,StructType(List(StructField(h,LongType,true),StructField(resize,StringType,true),StructField(w,LongType,true))),true),StructField(thumb,StructType(List(StructField(h,LongType,true),StructField(resize,StringType,true),StructField(w,LongType,true))),true))),true),StructField(source_status_id,LongType,true),StructField(source_status_id_str,StringType,true),StructField(source_user_id,LongType,true),StructField(source_user_id_str,StringType,true),StructField(type,StringType,true),StructField(url,StringType,true))),true),true),StructField(symbols,ArrayType(StringType,true),true),StructField(urls,ArrayType(StructType(List(StructField(display_url,StringType,true),StructField(expanded_url,StringType,true),StructField(indices,ArrayType(LongType,true),true),StructField(url,StringType,true))),true),true),StructField(user_mentions,ArrayType(StructType(List(StructField(id,LongType,true),StructField(id_str,StringType,true),StructField(indices,ArrayType(LongType,true),true),StructField(name,StringType,true),StructField(screen_name,StringType,true))),true),true))),true),StructField(extended_entities,StructType(List(StructField(media,ArrayType(StructType(List(StructField(additional_media_info,StructType(List(StructField(description,StringType,true),StructField(embeddable,BooleanType,true),StructField(monetizable,BooleanType,true),StructField(title,StringType,true))),true),StructField(description,StringType,true),StructField(display_url,StringType,true),StructField(expanded_url,StringType,true),StructField(id,LongType,true),StructField(id_str,StringType,true),StructField(indices,ArrayType(LongType,true),true),StructField(media_url,StringType,true),StructField(media_url_https,StringType,true),StructField(sizes,StructType(List(StructField(large,StructType(List(StructField(h,LongType,true),StructField(resize,StringType,true),StructField(w,LongType,true))),true),StructField(medium,StructType(List(StructField(h,LongType,true),StructField(resize,StringType,true),StructField(w,LongType,true))),true),StructField(small,StructType(List(StructField(h,LongType,true),StructField(resize,StringType,true),StructField(w,LongType,true))),true),StructField(thumb,StructType(List(StructField(h,LongType,true),StructField(resize,StringType,true),StructField(w,LongType,true))),true))),true),StructField(source_status_id,LongType,true),StructField(source_status_id_str,StringType,true),StructField(source_user_id,LongType,true),StructField(source_user_id_str,StringType,true),StructField(type,StringType,true),StructField(url,StringType,true),StructField(video_info,StructType(List(StructField(aspect_ratio,ArrayType(LongType,true),true),StructField(duration_millis,LongType,true),StructField(variants,ArrayType(StructType(List(StructField(bitrate,LongType,true),StructField(content_type,StringType,true),StructField(url,StringType,true))),true),true))),true))),true),true))),true),StructField(extended_tweet,StructType(List(StructField(display_text_range,ArrayType(LongType,true),true),StructField(entities,StructType(List(StructField(hashtags,ArrayType(StructType(List(StructField(indices,ArrayType(LongType,true),true),StructField(text,StringType,true))),true),true),StructField(media,ArrayType(StructType(List(StructField(additional_media_info,StructType(List(StructField(monetizable,BooleanType,true))),true),StructField(description,StringType,true),StructField(display_url,StringType,true),StructField(expanded_url,StringType,true),StructField(id,LongType,true),StructField(id_str,StringType,true),StructField(indices,ArrayType(LongType,true),true),StructField(media_url,StringType,true),StructField(media_url_https,StringType,true),StructField(sizes,StructType(List(StructField(large,StructType(List(StructField(h,LongType,true),StructField(resize,StringType,true),StructField(w,LongType,true))),true),StructField(medium,StructType(List(StructField(h,LongType,true),StructField(resize,StringType,true),StructField(w,LongType,true))),true),StructField(small,StructType(List(StructField(h,LongType,true),StructField(resize,StringType,true),StructField(w,LongType,true))),true),StructField(thumb,StructType(List(StructField(h,LongType,true),StructField(resize,StringType,true),StructField(w,LongType,true))),true))),true),StructField(source_status_id,LongType,true),StructField(source_status_id_str,StringType,true),StructField(source_user_id,LongType,true),StructField(source_user_id_str,StringType,true),StructField(type,StringType,true),StructField(url,StringType,true),StructField(video_info,StructType(List(StructField(aspect_ratio,ArrayType(LongType,true),true),StructField(duration_millis,LongType,true),StructField(variants,ArrayType(StructType(List(StructField(bitrate,LongType,true),StructField(content_type,StringType,true),StructField(url,StringType,true))),true),true))),true))),true),true),StructField(symbols,ArrayType(StringType,true),true),StructField(urls,ArrayType(StructType(List(StructField(display_url,StringType,true),StructField(expanded_url,StringType,true),StructField(indices,ArrayType(LongType,true),true),StructField(url,StringType,true))),true),true),StructField(user_mentions,ArrayType(StructType(List(StructField(id,LongType,true),StructField(id_str,StringType,true),StructField(indices,ArrayType(LongType,true),true),StructField(name,StringType,true),StructField(screen_name,StringType,true))),true),true))),true),StructField(extended_entities,StructType(List(StructField(media,ArrayType(StructType(List(StructField(additional_media_info,StructType(List(StructField(monetizable,BooleanType,true))),true),StructField(description,StringType,true),StructField(display_url,StringType,true),StructField(expanded_url,StringType,true),StructField(id,LongType,true),StructField(id_str,StringType,true),StructField(indices,ArrayType(LongType,true),true),StructField(media_url,StringType,true),StructField(media_url_https,StringType,true),StructField(sizes,StructType(List(StructField(large,StructType(List(StructField(h,LongType,true),StructField(resize,StringType,true),StructField(w,LongType,true))),true),StructField(medium,StructType(List(StructField(h,LongType,true),StructField(resize,StringType,true),StructField(w,LongType,true))),true),StructField(small,StructType(List(StructField(h,LongType,true),StructField(resize,StringType,true),StructField(w,LongType,true))),true),StructField(thumb,StructType(List(StructField(h,LongType,true),StructField(resize,StringType,true),StructField(w,LongType,true))),true))),true),StructField(source_status_id,LongType,true),StructField(source_status_id_str,StringType,true),StructField(source_user_id,LongType,true),StructField(source_user_id_str,StringType,true),StructField(type,StringType,true),StructField(url,StringType,true),StructField(video_info,StructType(List(StructField(aspect_ratio,ArrayType(LongType,true),true),StructField(duration_millis,LongType,true),StructField(variants,ArrayType(StructType(List(StructField(bitrate,LongType,true),StructField(content_type,StringType,true),StructField(url,StringType,true))),true),true))),true))),true),true))),true),StructField(full_text,StringType,true))),true),StructField(favorite_count,LongType,true),StructField(favorited,BooleanType,true),StructField(filter_level,StringType,true),StructField(geo,StringType,true),StructField(id,LongType,true),StructField(id_str,StringType,true),StructField(in_reply_to_screen_name,StringType,true),StructField(in_reply_to_status_id,LongType,true),StructField(in_reply_to_status_id_str,StringType,true),StructField(in_reply_to_user_id,LongType,true),StructField(in_reply_to_user_id_str,StringType,true),StructField(is_quote_status,BooleanType,true),StructField(lang,StringType,true),StructField(place,StructType(List(StructField(bounding_box,StructType(List(StructField(coordinates,ArrayType(ArrayType(ArrayType(DoubleType,true),true),true),true),StructField(type,StringType,true))),true),StructField(country,StringType,true),StructField(country_code,StringType,true),StructField(full_name,StringType,true),StructField(id,StringType,true),StructField(name,StringType,true),StructField(place_type,StringType,true),StructField(url,StringType,true))),true),StructField(possibly_sensitive,BooleanType,true),StructField(quote_count,LongType,true),StructField(quoted_status,StructType(List(StructField(contributors,StringType,true),StructField(coordinates,StringType,true),StructField(created_at,StringType,true),StructField(display_text_range,ArrayType(LongType,true),true),StructField(entities,StructType(List(StructField(hashtags,ArrayType(StructType(List(StructField(indices,ArrayType(LongType,true),true),StructField(text,StringType,true))),true),true),StructField(media,ArrayType(StructType(List(StructField(additional_media_info,StructType(List(StructField(embeddable,BooleanType,true),StructField(monetizable,BooleanType,true))),true),StructField(display_url,StringType,true),StructField(expanded_url,StringType,true),StructField(id,LongType,true),StructField(id_str,StringType,true),StructField(indices,ArrayType(LongType,true),true),StructField(media_url,StringType,true),StructField(media_url_https,StringType,true),StructField(sizes,StructType(List(StructField(large,StructType(List(StructField(h,LongType,true),StructField(resize,StringType,true),StructField(w,LongType,true))),true),StructField(medium,StructType(List(StructField(h,LongType,true),StructField(resize,StringType,true),StructField(w,LongType,true))),true),StructField(small,StructType(List(StructField(h,LongType,true),StructField(resize,StringType,true),StructField(w,LongType,true))),true),StructField(thumb,StructType(List(StructField(h,LongType,true),StructField(resize,StringType,true),StructField(w,LongType,true))),true))),true),StructField(source_status_id,LongType,true),StructField(source_status_id_str,StringType,true),StructField(source_user_id,LongType,true),StructField(source_user_id_str,StringType,true),StructField(type,StringType,true),StructField(url,StringType,true))),true),true),StructField(symbols,ArrayType(StructType(List(StructField(indices,ArrayType(LongType,true),true),StructField(text,StringType,true))),true),true),StructField(urls,ArrayType(StructType(List(StructField(display_url,StringType,true),StructField(expanded_url,StringType,true),StructField(indices,ArrayType(LongType,true),true),StructField(url,StringType,true))),true),true),StructField(user_mentions,ArrayType(StructType(List(StructField(id,LongType,true),StructField(id_str,StringType,true),StructField(indices,ArrayType(LongType,true),true),StructField(name,StringType,true),StructField(screen_name,StringType,true))),true),true))),true),StructField(extended_entities,StructType(List(StructField(media,ArrayType(StructType(List(StructField(additional_media_info,StructType(List(StructField(embeddable,BooleanType,true),StructField(monetizable,BooleanType,true))),true),StructField(display_url,StringType,true),StructField(expanded_url,StringType,true),StructField(id,LongType,true),StructField(id_str,StringType,true),StructField(indices,ArrayType(LongType,true),true),StructField(media_url,StringType,true),StructField(media_url_https,StringType,true),StructField(sizes,StructType(List(StructField(large,StructType(List(StructField(h,LongType,true),StructField(resize,StringType,true),StructField(w,LongType,true))),true),StructField(medium,StructType(List(StructField(h,LongType,true),StructField(resize,StringType,true),StructField(w,LongType,true))),true),StructField(small,StructType(List(StructField(h,LongType,true),StructField(resize,StringType,true),StructField(w,LongType,true))),true),StructField(thumb,StructType(List(StructField(h,LongType,true),StructField(resize,StringType,true),StructField(w,LongType,true))),true))),true),StructField(source_status_id,LongType,true),StructField(source_status_id_str,StringType,true),StructField(source_user_id,LongType,true),StructField(source_user_id_str,StringType,true),StructField(type,StringType,true),StructField(url,StringType,true),StructField(video_info,StructType(List(StructField(aspect_ratio,ArrayType(LongType,true),true),StructField(duration_millis,LongType,true),StructField(variants,ArrayType(StructType(List(StructField(bitrate,LongType,true),StructField(content_type,StringType,true),StructField(url,StringType,true))),true),true))),true))),true),true))),true),StructField(extended_tweet,StructType(List(StructField(display_text_range,ArrayType(LongType,true),true),StructField(entities,StructType(List(StructField(hashtags,ArrayType(StructType(List(StructField(indices,ArrayType(LongType,true),true),StructField(text,StringType,true))),true),true),StructField(media,ArrayType(StructType(List(StructField(additional_media_info,StructType(List(StructField(description,StringType,true),StructField(embeddable,BooleanType,true),StructField(monetizable,BooleanType,true),StructField(title,StringType,true))),true),StructField(display_url,StringType,true),StructField(expanded_url,StringType,true),StructField(id,LongType,true),StructField(id_str,StringType,true),StructField(indices,ArrayType(LongType,true),true),StructField(media_url,StringType,true),StructField(media_url_https,StringType,true),StructField(sizes,StructType(List(StructField(large,StructType(List(StructField(h,LongType,true),StructField(resize,StringType,true),StructField(w,LongType,true))),true),StructField(medium,StructType(List(StructField(h,LongType,true),StructField(resize,StringType,true),StructField(w,LongType,true))),true),StructField(small,StructType(List(StructField(h,LongType,true),StructField(resize,StringType,true),StructField(w,LongType,true))),true),StructField(thumb,StructType(List(StructField(h,LongType,true),StructField(resize,StringType,true),StructField(w,LongType,true))),true))),true),StructField(type,StringType,true),StructField(url,StringType,true),StructField(video_info,StructType(List(StructField(aspect_ratio,ArrayType(LongType,true),true),StructField(duration_millis,LongType,true),StructField(variants,ArrayType(StructType(List(StructField(bitrate,LongType,true),StructField(content_type,StringType,true),StructField(url,StringType,true))),true),true))),true))),true),true),StructField(symbols,ArrayType(StructType(List(StructField(indices,ArrayType(LongType,true),true),StructField(text,StringType,true))),true),true),StructField(urls,ArrayType(StructType(List(StructField(display_url,StringType,true),StructField(expanded_url,StringType,true),StructField(indices,ArrayType(LongType,true),true),StructField(url,StringType,true))),true),true),StructField(user_mentions,ArrayType(StructType(List(StructField(id,LongType,true),StructField(id_str,StringType,true),StructField(indices,ArrayType(LongType,true),true),StructField(name,StringType,true),StructField(screen_name,StringType,true))),true),true))),true),StructField(extended_entities,StructType(List(StructField(media,ArrayType(StructType(List(StructField(additional_media_info,StructType(List(StructField(description,StringType,true),StructField(embeddable,BooleanType,true),StructField(monetizable,BooleanType,true),StructField(title,StringType,true))),true),StructField(display_url,StringType,true),StructField(expanded_url,StringType,true),StructField(id,LongType,true),StructField(id_str,StringType,true),StructField(indices,ArrayType(LongType,true),true),StructField(media_url,StringType,true),StructField(media_url_https,StringType,true),StructField(sizes,StructType(List(StructField(large,StructType(List(StructField(h,LongType,true),StructField(resize,StringType,true),StructField(w,LongType,true))),true),StructField(medium,StructType(List(StructField(h,LongType,true),StructField(resize,StringType,true),StructField(w,LongType,true))),true),StructField(small,StructType(List(StructField(h,LongType,true),StructField(resize,StringType,true),StructField(w,LongType,true))),true),StructField(thumb,StructType(List(StructField(h,LongType,true),StructField(resize,StringType,true),StructField(w,LongType,true))),true))),true),StructField(type,StringType,true),StructField(url,StringType,true),StructField(video_info,StructType(List(StructField(aspect_ratio,ArrayType(LongType,true),true),StructField(duration_millis,LongType,true),StructField(variants,ArrayType(StructType(List(StructField(bitrate,LongType,true),StructField(content_type,StringType,true),StructField(url,StringType,true))),true),true))),true))),true),true))),true),StructField(full_text,StringType,true))),true),StructField(favorite_count,LongType,true),StructField(favorited,BooleanType,true),StructField(filter_level,StringType,true),StructField(geo,StringType,true),StructField(id,LongType,true),StructField(id_str,StringType,true),StructField(in_reply_to_screen_name,StringType,true),StructField(in_reply_to_status_id,LongType,true),StructField(in_reply_to_status_id_str,StringType,true),StructField(in_reply_to_user_id,LongType,true),StructField(in_reply_to_user_id_str,StringType,true),StructField(is_quote_status,BooleanType,true),StructField(lang,StringType,true),StructField(place,StructType(List(StructField(bounding_box,StructType(List(StructField(coordinates,ArrayType(ArrayType(ArrayType(DoubleType,true),true),true),true),StructField(type,StringType,true))),true),StructField(country,StringType,true),StructField(country_code,StringType,true),StructField(full_name,StringType,true),StructField(id,StringType,true),StructField(name,StringType,true),StructField(place_type,StringType,true),StructField(url,StringType,true))),true),StructField(possibly_sensitive,BooleanType,true),StructField(quote_count,LongType,true),StructField(quoted_status_id,LongType,true),StructField(quoted_status_id_str,StringType,true),StructField(reply_count,LongType,true),StructField(retweet_count,LongType,true),StructField(retweeted,BooleanType,true),StructField(source,StringType,true),StructField(text,StringType,true),StructField(truncated,BooleanType,true),StructField(user,StructType(List(StructField(contributors_enabled,BooleanType,true),StructField(created_at,StringType,true),StructField(default_profile,BooleanType,true),StructField(default_profile_image,BooleanType,true),StructField(description,StringType,true),StructField(favourites_count,LongType,true),StructField(follow_request_sent,StringType,true),StructField(followers_count,LongType,true),StructField(following,StringType,true),StructField(friends_count,LongType,true),StructField(geo_enabled,BooleanType,true),StructField(id,LongType,true),StructField(id_str,StringType,true),StructField(is_translator,BooleanType,true),StructField(lang,StringType,true),StructField(listed_count,LongType,true),StructField(location,StringType,true),StructField(name,StringType,true),StructField(notifications,StringType,true),StructField(profile_background_color,StringType,true),StructField(profile_background_image_url,StringType,true),StructField(profile_background_image_url_https,StringType,true),StructField(profile_background_tile,BooleanType,true),StructField(profile_banner_url,StringType,true),StructField(profile_image_url,StringType,true),StructField(profile_image_url_https,StringType,true),StructField(profile_link_color,StringType,true),StructField(profile_sidebar_border_color,StringType,true),StructField(profile_sidebar_fill_color,StringType,true),StructField(profile_text_color,StringType,true),StructField(profile_use_background_image,BooleanType,true),StructField(protected,BooleanType,true),StructField(screen_name,StringType,true),StructField(statuses_count,LongType,true),StructField(time_zone,StringType,true),StructField(translator_type,StringType,true),StructField(url,StringType,true),StructField(utc_offset,StringType,true),StructField(verified,BooleanType,true))),true))),true),StructField(quoted_status_id,LongType,true),StructField(quoted_status_id_str,StringType,true),StructField(quoted_status_permalink,StructType(List(StructField(display,StringType,true),StructField(expanded,StringType,true),StructField(url,StringType,true))),true),StructField(reply_count,LongType,true),StructField(retweet_count,LongType,true),StructField(retweeted,BooleanType,true),StructField(retweeted_status,StructType(List(StructField(contributors,StringType,true),StructField(coordinates,StringType,true),StructField(created_at,StringType,true),StructField(display_text_range,ArrayType(LongType,true),true),StructField(entities,StructType(List(StructField(hashtags,ArrayType(StructType(List(StructField(indices,ArrayType(LongType,true),true),StructField(text,StringType,true))),true),true),StructField(media,ArrayType(StructType(List(StructField(additional_media_info,StructType(List(StructField(description,StringType,true),StructField(embeddable,BooleanType,true),StructField(monetizable,BooleanType,true),StructField(title,StringType,true))),true),StructField(description,StringType,true),StructField(display_url,StringType,true),StructField(expanded_url,StringType,true),StructField(id,LongType,true),StructField(id_str,StringType,true),StructField(indices,ArrayType(LongType,true),true),StructField(media_url,StringType,true),StructField(media_url_https,StringType,true),StructField(sizes,StructType(List(StructField(large,StructType(List(StructField(h,LongType,true),StructField(resize,StringType,true),StructField(w,LongType,true))),true),StructField(medium,StructType(List(StructField(h,LongType,true),StructField(resize,StringType,true),StructField(w,LongType,true))),true),StructField(small,StructType(List(StructField(h,LongType,true),StructField(resize,StringType,true),StructField(w,LongType,true))),true),StructField(thumb,StructType(List(StructField(h,LongType,true),StructField(resize,StringType,true),StructField(w,LongType,true))),true))),true),StructField(source_status_id,LongType,true),StructField(source_status_id_str,StringType,true),StructField(source_user_id,LongType,true),StructField(source_user_id_str,StringType,true),StructField(type,StringType,true),StructField(url,StringType,true))),true),true),StructField(symbols,ArrayType(StringType,true),true),StructField(urls,ArrayType(StructType(List(StructField(display_url,StringType,true),StructField(expanded_url,StringType,true),StructField(indices,ArrayType(LongType,true),true),StructField(url,StringType,true))),true),true),StructField(user_mentions,ArrayType(StructType(List(StructField(id,LongType,true),StructField(id_str,StringType,true),StructField(indices,ArrayType(LongType,true),true),StructField(name,StringType,true),StructField(screen_name,StringType,true))),true),true))),true),StructField(extended_entities,StructType(List(StructField(media,ArrayType(StructType(List(StructField(additional_media_info,StructType(List(StructField(description,StringType,true),StructField(embeddable,BooleanType,true),StructField(monetizable,BooleanType,true),StructField(title,StringType,true))),true),StructField(description,StringType,true),StructField(display_url,StringType,true),StructField(expanded_url,StringType,true),StructField(id,LongType,true),StructField(id_str,StringType,true),StructField(indices,ArrayType(LongType,true),true),StructField(media_url,StringType,true),StructField(media_url_https,StringType,true),StructField(sizes,StructType(List(StructField(large,StructType(List(StructField(h,LongType,true),StructField(resize,StringType,true),StructField(w,LongType,true))),true),StructField(medium,StructType(List(StructField(h,LongType,true),StructField(resize,StringType,true),StructField(w,LongType,true))),true),StructField(small,StructType(List(StructField(h,LongType,true),StructField(resize,StringType,true),StructField(w,LongType,true))),true),StructField(thumb,StructType(List(StructField(h,LongType,true),StructField(resize,StringType,true),StructField(w,LongType,true))),true))),true),StructField(source_status_id,LongType,true),StructField(source_status_id_str,StringType,true),StructField(source_user_id,LongType,true),StructField(source_user_id_str,StringType,true),StructField(type,StringType,true),StructField(url,StringType,true),StructField(video_info,StructType(List(StructField(aspect_ratio,ArrayType(LongType,true),true),StructField(duration_millis,LongType,true),StructField(variants,ArrayType(StructType(List(StructField(bitrate,LongType,true),StructField(content_type,StringType,true),StructField(url,StringType,true))),true),true))),true))),true),true))),true),StructField(extended_tweet,StructType(List(StructField(display_text_range,ArrayType(LongType,true),true),StructField(entities,StructType(List(StructField(hashtags,ArrayType(StructType(List(StructField(indices,ArrayType(LongType,true),true),StructField(text,StringType,true))),true),true),StructField(media,ArrayType(StructType(List(StructField(additional_media_info,StructType(List(StructField(description,StringType,true),StructField(embeddable,BooleanType,true),StructField(monetizable,BooleanType,true),StructField(title,StringType,true))),true),StructField(description,StringType,true),StructField(display_url,StringType,true),StructField(expanded_url,StringType,true),StructField(id,LongType,true),StructField(id_str,StringType,true),StructField(indices,ArrayType(LongType,true),true),StructField(media_url,StringType,true),StructField(media_url_https,StringType,true),StructField(sizes,StructType(List(StructField(large,StructType(List(StructField(h,LongType,true),StructField(resize,StringType,true),StructField(w,LongType,true))),true),StructField(medium,StructType(List(StructField(h,LongType,true),StructField(resize,StringType,true),StructField(w,LongType,true))),true),StructField(small,StructType(List(StructField(h,LongType,true),StructField(resize,StringType,true),StructField(w,LongType,true))),true),StructField(thumb,StructType(List(StructField(h,LongType,true),StructField(resize,StringType,true),StructField(w,LongType,true))),true))),true),StructField(source_status_id,LongType,true),StructField(source_status_id_str,StringType,true),StructField(source_user_id,LongType,true),StructField(source_user_id_str,StringType,true),StructField(type,StringType,true),StructField(url,StringType,true),StructField(video_info,StructType(List(StructField(aspect_ratio,ArrayType(LongType,true),true),StructField(duration_millis,LongType,true),StructField(variants,ArrayType(StructType(List(StructField(bitrate,LongType,true),StructField(content_type,StringType,true),StructField(url,StringType,true))),true),true))),true))),true),true),StructField(symbols,ArrayType(StructType(List(StructField(indices,ArrayType(LongType,true),true),StructField(text,StringType,true))),true),true),StructField(urls,ArrayType(StructType(List(StructField(display_url,StringType,true),StructField(expanded_url,StringType,true),StructField(indices,ArrayType(LongType,true),true),StructField(url,StringType,true))),true),true),StructField(user_mentions,ArrayType(StructType(List(StructField(id,LongType,true),StructField(id_str,StringType,true),StructField(indices,ArrayType(LongType,true),true),StructField(name,StringType,true),StructField(screen_name,StringType,true))),true),true))),true),StructField(extended_entities,StructType(List(StructField(media,ArrayType(StructType(List(StructField(additional_media_info,StructType(List(StructField(description,StringType,true),StructField(embeddable,BooleanType,true),StructField(monetizable,BooleanType,true),StructField(title,StringType,true))),true),StructField(description,StringType,true),StructField(display_url,StringType,true),StructField(expanded_url,StringType,true),StructField(id,LongType,true),StructField(id_str,StringType,true),StructField(indices,ArrayType(LongType,true),true),StructField(media_url,StringType,true),StructField(media_url_https,StringType,true),StructField(sizes,StructType(List(StructField(large,StructType(List(StructField(h,LongType,true),StructField(resize,StringType,true),StructField(w,LongType,true))),true),StructField(medium,StructType(List(StructField(h,LongType,true),StructField(resize,StringType,true),StructField(w,LongType,true))),true),StructField(small,StructType(List(StructField(h,LongType,true),StructField(resize,StringType,true),StructField(w,LongType,true))),true),StructField(thumb,StructType(List(StructField(h,LongType,true),StructField(resize,StringType,true),StructField(w,LongType,true))),true))),true),StructField(source_status_id,LongType,true),StructField(source_status_id_str,StringType,true),StructField(source_user_id,LongType,true),StructField(source_user_id_str,StringType,true),StructField(type,StringType,true),StructField(url,StringType,true),StructField(video_info,StructType(List(StructField(aspect_ratio,ArrayType(LongType,true),true),StructField(duration_millis,LongType,true),StructField(variants,ArrayType(StructType(List(StructField(bitrate,LongType,true),StructField(content_type,StringType,true),StructField(url,StringType,true))),true),true))),true))),true),true))),true),StructField(full_text,StringType,true))),true),StructField(favorite_count,LongType,true),StructField(favorited,BooleanType,true),StructField(filter_level,StringType,true),StructField(geo,StringType,true),StructField(id,LongType,true),StructField(id_str,StringType,true),StructField(in_reply_to_screen_name,StringType,true),StructField(in_reply_to_status_id,LongType,true),StructField(in_reply_to_status_id_str,StringType,true),StructField(in_reply_to_user_id,LongType,true),StructField(in_reply_to_user_id_str,StringType,true),StructField(is_quote_status,BooleanType,true),StructField(lang,StringType,true),StructField(place,StructType(List(StructField(bounding_box,StructType(List(StructField(coordinates,ArrayType(ArrayType(ArrayType(DoubleType,true),true),true),true),StructField(type,StringType,true))),true),StructField(country,StringType,true),StructField(country_code,StringType,true),StructField(full_name,StringType,true),StructField(id,StringType,true),StructField(name,StringType,true),StructField(place_type,StringType,true),StructField(url,StringType,true))),true),StructField(possibly_sensitive,BooleanType,true),StructField(quote_count,LongType,true),StructField(quoted_status,StructType(List(StructField(contributors,StringType,true),StructField(coordinates,StringType,true),StructField(created_at,StringType,true),StructField(display_text_range,ArrayType(LongType,true),true),StructField(entities,StructType(List(StructField(hashtags,ArrayType(StructType(List(StructField(indices,ArrayType(LongType,true),true),StructField(text,StringType,true))),true),true),StructField(media,ArrayType(StructType(List(StructField(additional_media_info,StructType(List(StructField(embeddable,BooleanType,true),StructField(monetizable,BooleanType,true))),true),StructField(display_url,StringType,true),StructField(expanded_url,StringType,true),StructField(id,LongType,true),StructField(id_str,StringType,true),StructField(indices,ArrayType(LongType,true),true),StructField(media_url,StringType,true),StructField(media_url_https,StringType,true),StructField(sizes,StructType(List(StructField(large,StructType(List(StructField(h,LongType,true),StructField(resize,StringType,true),StructField(w,LongType,true))),true),StructField(medium,StructType(List(StructField(h,LongType,true),StructField(resize,StringType,true),StructField(w,LongType,true))),true),StructField(small,StructType(List(StructField(h,LongType,true),StructField(resize,StringType,true),StructField(w,LongType,true))),true),StructField(thumb,StructType(List(StructField(h,LongType,true),StructField(resize,StringType,true),StructField(w,LongType,true))),true))),true),StructField(source_status_id,LongType,true),StructField(source_status_id_str,StringType,true),StructField(source_user_id,LongType,true),StructField(source_user_id_str,StringType,true),StructField(type,StringType,true),StructField(url,StringType,true))),true),true),StructField(symbols,ArrayType(StructType(List(StructField(indices,ArrayType(LongType,true),true),StructField(text,StringType,true))),true),true),StructField(urls,ArrayType(StructType(List(StructField(display_url,StringType,true),StructField(expanded_url,StringType,true),StructField(indices,ArrayType(LongType,true),true),StructField(url,StringType,true))),true),true),StructField(user_mentions,ArrayType(StructType(List(StructField(id,LongType,true),StructField(id_str,StringType,true),StructField(indices,ArrayType(LongType,true),true),StructField(name,StringType,true),StructField(screen_name,StringType,true))),true),true))),true),StructField(extended_entities,StructType(List(StructField(media,ArrayType(StructType(List(StructField(additional_media_info,StructType(List(StructField(embeddable,BooleanType,true),StructField(monetizable,BooleanType,true))),true),StructField(display_url,StringType,true),StructField(expanded_url,StringType,true),StructField(id,LongType,true),StructField(id_str,StringType,true),StructField(indices,ArrayType(LongType,true),true),StructField(media_url,StringType,true),StructField(media_url_https,StringType,true),StructField(sizes,StructType(List(StructField(large,StructType(List(StructField(h,LongType,true),StructField(resize,StringType,true),StructField(w,LongType,true))),true),StructField(medium,StructType(List(StructField(h,LongType,true),StructField(resize,StringType,true),StructField(w,LongType,true))),true),StructField(small,StructType(List(StructField(h,LongType,true),StructField(resize,StringType,true),StructField(w,LongType,true))),true),StructField(thumb,StructType(List(StructField(h,LongType,true),StructField(resize,StringType,true),StructField(w,LongType,true))),true))),true),StructField(source_status_id,LongType,true),StructField(source_status_id_str,StringType,true),StructField(source_user_id,LongType,true),StructField(source_user_id_str,StringType,true),StructField(type,StringType,true),StructField(url,StringType,true),StructField(video_info,StructType(List(StructField(aspect_ratio,ArrayType(LongType,true),true),StructField(duration_millis,LongType,true),StructField(variants,ArrayType(StructType(List(StructField(bitrate,LongType,true),StructField(content_type,StringType,true),StructField(url,StringType,true))),true),true))),true))),true),true))),true),StructField(extended_tweet,StructType(List(StructField(display_text_range,ArrayType(LongType,true),true),StructField(entities,StructType(List(StructField(hashtags,ArrayType(StructType(List(StructField(indices,ArrayType(LongType,true),true),StructField(text,StringType,true))),true),true),StructField(media,ArrayType(StructType(List(StructField(additional_media_info,StructType(List(StructField(description,StringType,true),StructField(embeddable,BooleanType,true),StructField(monetizable,BooleanType,true),StructField(title,StringType,true))),true),StructField(display_url,StringType,true),StructField(expanded_url,StringType,true),StructField(id,LongType,true),StructField(id_str,StringType,true),StructField(indices,ArrayType(LongType,true),true),StructField(media_url,StringType,true),StructField(media_url_https,StringType,true),StructField(sizes,StructType(List(StructField(large,StructType(List(StructField(h,LongType,true),StructField(resize,StringType,true),StructField(w,LongType,true))),true),StructField(medium,StructType(List(StructField(h,LongType,true),StructField(resize,StringType,true),StructField(w,LongType,true))),true),StructField(small,StructType(List(StructField(h,LongType,true),StructField(resize,StringType,true),StructField(w,LongType,true))),true),StructField(thumb,StructType(List(StructField(h,LongType,true),StructField(resize,StringType,true),StructField(w,LongType,true))),true))),true),StructField(type,StringType,true),StructField(url,StringType,true),StructField(video_info,StructType(List(StructField(aspect_ratio,ArrayType(LongType,true),true),StructField(duration_millis,LongType,true),StructField(variants,ArrayType(StructType(List(StructField(bitrate,LongType,true),StructField(content_type,StringType,true),StructField(url,StringType,true))),true),true))),true))),true),true),StructField(symbols,ArrayType(StructType(List(StructField(indices,ArrayType(LongType,true),true),StructField(text,StringType,true))),true),true),StructField(urls,ArrayType(StructType(List(StructField(display_url,StringType,true),StructField(expanded_url,StringType,true),StructField(indices,ArrayType(LongType,true),true),StructField(url,StringType,true))),true),true),StructField(user_mentions,ArrayType(StructType(List(StructField(id,LongType,true),StructField(id_str,StringType,true),StructField(indices,ArrayType(LongType,true),true),StructField(name,StringType,true),StructField(screen_name,StringType,true))),true),true))),true),StructField(extended_entities,StructType(List(StructField(media,ArrayType(StructType(List(StructField(additional_media_info,StructType(List(StructField(description,StringType,true),StructField(embeddable,BooleanType,true),StructField(monetizable,BooleanType,true),StructField(title,StringType,true))),true),StructField(display_url,StringType,true),StructField(expanded_url,StringType,true),StructField(id,LongType,true),StructField(id_str,StringType,true),StructField(indices,ArrayType(LongType,true),true),StructField(media_url,StringType,true),StructField(media_url_https,StringType,true),StructField(sizes,StructType(List(StructField(large,StructType(List(StructField(h,LongType,true),StructField(resize,StringType,true),StructField(w,LongType,true))),true),StructField(medium,StructType(List(StructField(h,LongType,true),StructField(resize,StringType,true),StructField(w,LongType,true))),true),StructField(small,StructType(List(StructField(h,LongType,true),StructField(resize,StringType,true),StructField(w,LongType,true))),true),StructField(thumb,StructType(List(StructField(h,LongType,true),StructField(resize,StringType,true),StructField(w,LongType,true))),true))),true),StructField(type,StringType,true),StructField(url,StringType,true),StructField(video_info,StructType(List(StructField(aspect_ratio,ArrayType(LongType,true),true),StructField(duration_millis,LongType,true),StructField(variants,ArrayType(StructType(List(StructField(bitrate,LongType,true),StructField(content_type,StringType,true),StructField(url,StringType,true))),true),true))),true))),true),true))),true),StructField(full_text,StringType,true))),true),StructField(favorite_count,LongType,true),StructField(favorited,BooleanType,true),StructField(filter_level,StringType,true),StructField(geo,StringType,true),StructField(id,LongType,true),StructField(id_str,StringType,true),StructField(in_reply_to_screen_name,StringType,true),StructField(in_reply_to_status_id,LongType,true),StructField(in_reply_to_status_id_str,StringType,true),StructField(in_reply_to_user_id,LongType,true),StructField(in_reply_to_user_id_str,StringType,true),StructField(is_quote_status,BooleanType,true),StructField(lang,StringType,true),StructField(place,StringType,true),StructField(possibly_sensitive,BooleanType,true),StructField(quote_count,LongType,true),StructField(quoted_status_id,LongType,true),StructField(quoted_status_id_str,StringType,true),StructField(reply_count,LongType,true),StructField(retweet_count,LongType,true),StructField(retweeted,BooleanType,true),StructField(source,StringType,true),StructField(text,StringType,true),StructField(truncated,BooleanType,true),StructField(user,StructType(List(StructField(contributors_enabled,BooleanType,true),StructField(created_at,StringType,true),StructField(default_profile,BooleanType,true),StructField(default_profile_image,BooleanType,true),StructField(description,StringType,true),StructField(favourites_count,LongType,true),StructField(follow_request_sent,StringType,true),StructField(followers_count,LongType,true),StructField(following,StringType,true),StructField(friends_count,LongType,true),StructField(geo_enabled,BooleanType,true),StructField(id,LongType,true),StructField(id_str,StringType,true),StructField(is_translator,BooleanType,true),StructField(lang,StringType,true),StructField(listed_count,LongType,true),StructField(location,StringType,true),StructField(name,StringType,true),StructField(notifications,StringType,true),StructField(profile_background_color,StringType,true),StructField(profile_background_image_url,StringType,true),StructField(profile_background_image_url_https,StringType,true),StructField(profile_background_tile,BooleanType,true),StructField(profile_banner_url,StringType,true),StructField(profile_image_url,StringType,true),StructField(profile_image_url_https,StringType,true),StructField(profile_link_color,StringType,true),StructField(profile_sidebar_border_color,StringType,true),StructField(profile_sidebar_fill_color,StringType,true),StructField(profile_text_color,StringType,true),StructField(profile_use_background_image,BooleanType,true),StructField(protected,BooleanType,true),StructField(screen_name,StringType,true),StructField(statuses_count,LongType,true),StructField(time_zone,StringType,true),StructField(translator_type,StringType,true),StructField(url,StringType,true),StructField(utc_offset,StringType,true),StructField(verified,BooleanType,true))),true))),true),StructField(quoted_status_id,LongType,true),StructField(quoted_status_id_str,StringType,true),StructField(quoted_status_permalink,StructType(List(StructField(display,StringType,true),StructField(expanded,StringType,true),StructField(url,StringType,true))),true),StructField(reply_count,LongType,true),StructField(retweet_count,LongType,true),StructField(retweeted,BooleanType,true),StructField(source,StringType,true),StructField(text,StringType,true),StructField(truncated,BooleanType,true),StructField(user,StructType(List(StructField(contributors_enabled,BooleanType,true),StructField(created_at,StringType,true),StructField(default_profile,BooleanType,true),StructField(default_profile_image,BooleanType,true),StructField(description,StringType,true),StructField(favourites_count,LongType,true),StructField(follow_request_sent,StringType,true),StructField(followers_count,LongType,true),StructField(following,StringType,true),StructField(friends_count,LongType,true),StructField(geo_enabled,BooleanType,true),StructField(id,LongType,true),StructField(id_str,StringType,true),StructField(is_translator,BooleanType,true),StructField(lang,StringType,true),StructField(listed_count,LongType,true),StructField(location,StringType,true),StructField(name,StringType,true),StructField(notifications,StringType,true),StructField(profile_background_color,StringType,true),StructField(profile_background_image_url,StringType,true),StructField(profile_background_image_url_https,StringType,true),StructField(profile_background_tile,BooleanType,true),StructField(profile_banner_url,StringType,true),StructField(profile_image_url,StringType,true),StructField(profile_image_url_https,StringType,true),StructField(profile_link_color,StringType,true),StructField(profile_sidebar_border_color,StringType,true),StructField(profile_sidebar_fill_color,StringType,true),StructField(profile_text_color,StringType,true),StructField(profile_use_background_image,BooleanType,true),StructField(protected,BooleanType,true),StructField(screen_name,StringType,true),StructField(statuses_count,LongType,true),StructField(time_zone,StringType,true),StructField(translator_type,StringType,true),StructField(url,StringType,true),StructField(utc_offset,StringType,true),StructField(verified,BooleanType,true))),true))),true),StructField(source,StringType,true),StructField(text,StringType,true),StructField(timestamp_ms,StringType,true),StructField(truncated,BooleanType,true),StructField(user,StructType(List(StructField(contributors_enabled,BooleanType,true),StructField(created_at,StringType,true),StructField(default_profile,BooleanType,true),StructField(default_profile_image,BooleanType,true),StructField(description,StringType,true),StructField(favourites_count,LongType,true),StructField(follow_request_sent,StringType,true),StructField(followers_count,LongType,true),StructField(following,StringType,true),StructField(friends_count,LongType,true),StructField(geo_enabled,BooleanType,true),StructField(id,LongType,true),StructField(id_str,StringType,true),StructField(is_translator,BooleanType,true),StructField(lang,StringType,true),StructField(listed_count,LongType,true),StructField(location,StringType,true),StructField(name,StringType,true),StructField(notifications,StringType,true),StructField(profile_background_color,StringType,true),StructField(profile_background_image_url,StringType,true),StructField(profile_background_image_url_https,StringType,true),StructField(profile_background_tile,BooleanType,true),StructField(profile_banner_url,StringType,true),StructField(profile_image_url,StringType,true),StructField(profile_image_url_https,StringType,true),StructField(profile_link_color,StringType,true),StructField(profile_sidebar_border_color,StringType,true),StructField(profile_sidebar_fill_color,StringType,true),StructField(profile_text_color,StringType,true),StructField(profile_use_background_image,BooleanType,true),StructField(protected,BooleanType,true),StructField(screen_name,StringType,true),StructField(statuses_count,LongType,true),StructField(time_zone,StringType,true),StructField(translator_type,StringType,true),StructField(url,StringType,true),StructField(utc_offset,StringType,true),StructField(verified,BooleanType,true))),true)))"
     ]
    }
   ],
   "source": [
    "tweets = sqlContext.read.json('s3://cse6242-scasalis3/twitter/2020/12/01/01/', samplingRatio = 0.01)\n",
    "tweets.schema"
   ]
  },
  {
   "cell_type": "code",
   "execution_count": 64,
   "id": "acoustic-determination",
   "metadata": {},
   "outputs": [
    {
     "data": {
      "application/vnd.jupyter.widget-view+json": {
       "model_id": "1f976567d5684917832336b7ecde951e",
       "version_major": 2,
       "version_minor": 0
      },
      "text/plain": [
       "VBox()"
      ]
     },
     "metadata": {},
     "output_type": "display_data"
    },
    {
     "data": {
      "application/vnd.jupyter.widget-view+json": {
       "model_id": "",
       "version_major": 2,
       "version_minor": 0
      },
      "text/plain": [
       "FloatProgress(value=0.0, bar_style='info', description='Progress:', layout=Layout(height='25px', width='50%'),…"
      ]
     },
     "metadata": {},
     "output_type": "display_data"
    },
    {
     "name": "stdout",
     "output_type": "stream",
     "text": [
      "+------+--------------------+--------------------+----+-----+---+----+--------------------+--------------------+---------------+--------+---------------+-------------+----------------+--------------+-----------+-----------+-------------+--------------+----------------------+\n",
      "|Symbol|                Name|              Sector|year|month|day|hour|                text|                name|    screen_name|verified|followers_count|friends_count|favourites_count|statuses_count|quote_count|reply_count|retweet_count|favorite_count|              hashtags|\n",
      "+------+--------------------+--------------------+----+-----+---+----+--------------------+--------------------+---------------+--------+---------------+-------------+----------------+--------------+-----------+-----------+-------------+--------------+----------------------+\n",
      "|   TXT|        Textron Inc.|         Industrials|2020|   12|  1|   8|RT @TXTBigHitWW: ...|       GYUmmy🐻𖧵💜✜|         Bwi4me|   false|            154|          219|           34674|         16714|          0|          0|            0|             0|  [[[70, 74], TXT],...|\n",
      "|     V|           Visa Inc.|Information Techn...|2020|   12|  1|   8|RT @bnge_v: 🌲 SA...|              🎋ᵇᵉ᭄࿐|       9helloV5|   false|            137|          123|           82707|         44248|          0|          0|            0|             0|[[[71, 74], 태형], ...|\n",
      "|   TXT|        Textron Inc.|         Industrials|2020|   12|  1|   8|RT @0t5Eunice: TA...|         green ✜ D-4|        gre3nxt|   false|            177|          408|            1496|          1197|          0|          0|            0|             0|  [[[65, 74], MAMAV...|\n",
      "|   VAR|Varian Medical Sy...|         Health Care|2020|   12|  1|   8|The main problem ...|     Appahcinno ✌_😎|     Appahcinno|   false|           1097|          873|            6898|         47186|          0|          0|            0|             0|     [[[94, 98], VAR]]|\n",
      "|    EA|     Electronic Arts|Communication Ser...|2020|   12|  1|   8|PamyBot2:~$ #fore...|              I/O FX|pami3y_evilcode|   false|            274|          279|             516|         32756|          0|          0|            0|             0|  [[[12, 18], forex...|\n",
      "|   TXT|        Textron Inc.|         Industrials|2020|   12|  1|   8|RT @mybinniebin: ...|                MK ❈|        tyun_in|   false|            289|          265|           55245|         14719|          0|          0|            0|             0|  [[[18, 27], 2020M...|\n",
      "|     V|           Visa Inc.|Information Techn...|2020|   12|  1|   8|RT @bnge_v: 🌲 SA...|                  花|      nnin_SUGA|   false|              0|         2031|            2764|         32284|          0|          0|            0|             0|[[[71, 74], 태형], ...|\n",
      "|     V|           Visa Inc.|Information Techn...|2020|   12|  1|   8|RT @hourlyvsoo: w...|                 yok| herseyeyorumcu|   false|             65|           46|            5926|          2320|          0|          0|            0|             0|  [[[66, 72], JISOO...|\n",
      "|   TXT|        Textron Inc.|         Industrials|2020|   12|  1|   8|RT @TXT_twtid: .@...|                 Mae|       MJEMG__4|   false|            336|          497|           80109|         40880|          0|          0|            0|             0|  [[[42, 51], BlueH...|\n",
      "|   ABT| Abbott Laboratories|         Health Care|2020|   12|  1|   8| #ABT makes me smile|Feranmi enjoys #A...|     Its_laliga|   false|           3205|         4473|            9620|         20238|          0|          0|            0|             0|       [[[0, 4], ABT]]|\n",
      "|   TXT|        Textron Inc.|         Industrials|2020|   12|  1|   8|@TXTCHART_KR Best...|                 dry|      moamidzyy|   false|             31|          133|            6908|          5172|          0|          0|            0|             0| [[[57, 64], TXT_태...|\n",
      "+------+--------------------+--------------------+----+-----+---+----+--------------------+--------------------+---------------+--------+---------------+-------------+----------------+--------------+-----------+-----------+-------------+--------------+----------------------+"
     ]
    }
   ],
   "source": [
    "tweets.filter(col('lang') == 'en') \\\n",
    "                 .withColumn('parsed_created_at', from_unixtime(unix_timestamp('created_at', 'EEE MMM d HH:mm:ss z yyyy'))) \\\n",
    "                 .withColumn('year', year(col('parsed_created_at'))) \\\n",
    "                 .withColumn('month', month(col('parsed_created_at'))) \\\n",
    "                 .withColumn('day', dayofmonth(col('parsed_created_at'))) \\\n",
    "                 .withColumn('hour', hour(col('parsed_created_at'))) \\\n",
    "                 .filter(col('parsed_created_at').isNotNull()) \\\n",
    "                 .withColumn('Symbol', regexp_extract(\"text\", '(^|\\s)(\\b' + '|'.join(map(lambda x: x[0] + x[1], itertools.product(['$', '#'], company_symbols))) + '\\b)(\\s|$)', 2)) \\\n",
    "                 .fillna('', ['Symbol']) \\\n",
    "                 .filter(col('Symbol') != '') \\\n",
    "                 .withColumn('Symbol', expr('substring(Symbol, 2, length(Symbol))')) \\\n",
    "                 .join(companies, 'Symbol', 'left_outer') \\\n",
    "                 .select('Symbol', 'Name', 'Sector', 'year', 'month', 'day', 'hour', 'text', 'user.name', \\\n",
    "                         'user.screen_name', 'user.verified', 'user.followers_count', 'user.friends_count', \\\n",
    "                         'user.favourites_count', 'user.statuses_count', 'quote_count', 'reply_count', \\\n",
    "                         'retweet_count', 'favorite_count', 'entities.hashtags').show()"
   ]
  },
  {
   "cell_type": "code",
   "execution_count": 6,
   "id": "german-registration",
   "metadata": {},
   "outputs": [
    {
     "data": {
      "application/vnd.jupyter.widget-view+json": {
       "model_id": "7b54cf244386425caf570b48265d8ec8",
       "version_major": 2,
       "version_minor": 0
      },
      "text/plain": [
       "VBox()"
      ]
     },
     "metadata": {},
     "output_type": "display_data"
    },
    {
     "data": {
      "application/vnd.jupyter.widget-view+json": {
       "model_id": "",
       "version_major": 2,
       "version_minor": 0
      },
      "text/plain": [
       "FloatProgress(value=0.0, bar_style='info', description='Progress:', layout=Layout(height='25px', width='50%'),…"
      ]
     },
     "metadata": {},
     "output_type": "display_data"
    }
   ],
   "source": [
    "from pyspark.sql.types import *\n",
    "\n",
    "schema = StructType([StructField(\"Symbol\", StringType(), True), \\\n",
    "                     StructField(\"company_name\", StringType(), True), \\\n",
    "                     StructField(\"Sector\", StringType(), True), \\\n",
    "                     StructField(\"year\", StringType(), True), \\\n",
    "                     StructField(\"month\", StringType(), True), \\\n",
    "                     StructField(\"day\", StringType(), True), \\\n",
    "                     StructField(\"hour\", StringType(), True), \\\n",
    "                     StructField(\"text\", StringType(), True), \\\n",
    "                     StructField(\"user_name\", StringType(), True), \\\n",
    "                     StructField(\"user_screen_name\", StringType(), True), \\\n",
    "                     StructField(\"user_verified\", BooleanType(), True), \\\n",
    "                     StructField(\"user_followers_count\", IntegerType(), True), \\\n",
    "                     StructField(\"user_friends_count\", IntegerType(), True), \\\n",
    "                     StructField(\"user_favourites_count\", IntegerType(), True), \\\n",
    "                     StructField(\"user_statuses_count\", IntegerType(), True), \\\n",
    "                     StructField(\"quote_count\", IntegerType(), True), \\\n",
    "                     StructField(\"reply_count\", IntegerType(), True), \\\n",
    "                     StructField(\"retweet_count\", IntegerType(), True), \\\n",
    "                     StructField(\"favorite_count\", IntegerType(), True), \\\n",
    "                     StructField(\"tweet_id\", StringType(), True), \\\n",
    "                     StructField(\"user_id\", StringType(), True) \\\n",
    "                     ])\n",
    "\n",
    "filtered_tweets = sqlContext.read.csv('s3://cse6242-scasalis3/filtered-twitter/', schema)"
   ]
  },
  {
   "cell_type": "code",
   "execution_count": 16,
   "id": "listed-rolling",
   "metadata": {},
   "outputs": [
    {
     "data": {
      "application/vnd.jupyter.widget-view+json": {
       "model_id": "b098be7557e64d5f98698211222654c9",
       "version_major": 2,
       "version_minor": 0
      },
      "text/plain": [
       "VBox()"
      ]
     },
     "metadata": {},
     "output_type": "display_data"
    },
    {
     "data": {
      "application/vnd.jupyter.widget-view+json": {
       "model_id": "",
       "version_major": 2,
       "version_minor": 0
      },
      "text/plain": [
       "FloatProgress(value=0.0, bar_style='info', description='Progress:', layout=Layout(height='25px', width='50%'),…"
      ]
     },
     "metadata": {},
     "output_type": "display_data"
    }
   ],
   "source": [
    "filtered_tweets.repartition('Symbol') \\\n",
    "               .write \\\n",
    "               .option('header', True) \\\n",
    "               .partitionBy('Symbol') \\\n",
    "               .csv('s3://cse6242-scasalis3/filtered-twitter-repartition3/')"
   ]
  },
  {
   "cell_type": "code",
   "execution_count": 21,
   "id": "arctic-saskatchewan",
   "metadata": {},
   "outputs": [
    {
     "data": {
      "application/vnd.jupyter.widget-view+json": {
       "model_id": "dfe7c6a77a834ade812fd2e61a6a1646",
       "version_major": 2,
       "version_minor": 0
      },
      "text/plain": [
       "VBox()"
      ]
     },
     "metadata": {},
     "output_type": "display_data"
    },
    {
     "data": {
      "application/vnd.jupyter.widget-view+json": {
       "model_id": "",
       "version_major": 2,
       "version_minor": 0
      },
      "text/plain": [
       "FloatProgress(value=0.0, bar_style='info', description='Progress:', layout=Layout(height='25px', width='50%'),…"
      ]
     },
     "metadata": {},
     "output_type": "display_data"
    }
   ],
   "source": [
    "from pyspark.sql.functions import col\n",
    "\n",
    "filtered_tweets.groupBy('Symbol').count().orderBy(col('count').desc()).coalesce(1) \\\n",
    "               .write.option('header', True).csv('s3://cse6242-scasalis3/filtered-twitter-stats2/')"
   ]
  },
  {
   "cell_type": "code",
   "execution_count": 20,
   "id": "direct-sierra",
   "metadata": {},
   "outputs": [
    {
     "data": {
      "application/vnd.jupyter.widget-view+json": {
       "model_id": "7f76843541814abda6feae2f8719176e",
       "version_major": 2,
       "version_minor": 0
      },
      "text/plain": [
       "VBox()"
      ]
     },
     "metadata": {},
     "output_type": "display_data"
    },
    {
     "data": {
      "application/vnd.jupyter.widget-view+json": {
       "model_id": "",
       "version_major": 2,
       "version_minor": 0
      },
      "text/plain": [
       "FloatProgress(value=0.0, bar_style='info', description='Progress:', layout=Layout(height='25px', width='50%'),…"
      ]
     },
     "metadata": {},
     "output_type": "display_data"
    },
    {
     "name": "stdout",
     "output_type": "stream",
     "text": [
      "220074"
     ]
    }
   ],
   "source": [
    "filtered_tweets.count()"
   ]
  }
 ],
 "metadata": {
  "kernelspec": {
   "display_name": "PySpark",
   "language": "",
   "name": "pysparkkernel"
  },
  "language_info": {
   "codemirror_mode": {
    "name": "python",
    "version": 3
   },
   "mimetype": "text/x-python",
   "name": "pyspark",
   "pygments_lexer": "python3"
  }
 },
 "nbformat": 4,
 "nbformat_minor": 5
}
