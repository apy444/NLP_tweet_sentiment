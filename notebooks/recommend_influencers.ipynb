{
 "cells": [
  {
   "cell_type": "markdown",
   "id": "4be55f48",
   "metadata": {},
   "source": [
    "# Influencer Recommendation"
   ]
  },
  {
   "cell_type": "markdown",
   "id": "66f1bb9e",
   "metadata": {},
   "source": [
    "This notebook was used to combine financial information and tweets with sentiment scoring.\n",
    "\n",
    "These two datasets were joined by date, and then used to evaluate which Twitter accounts had a best correlation with stock movements; i.e. which accounts had tweets with positive sentiment on days that the stock price went up, and negative sentiment on days that the stock price went down."
   ]
  },
  {
   "cell_type": "code",
   "execution_count": 1,
   "id": "celtic-ceremony",
   "metadata": {},
   "outputs": [],
   "source": [
    "import pandas as pd"
   ]
  },
  {
   "cell_type": "markdown",
   "id": "b7aa0054",
   "metadata": {},
   "source": [
    "Download the datasets to the cluster where the user can find them"
   ]
  },
  {
   "cell_type": "code",
   "execution_count": 2,
   "id": "written-fleet",
   "metadata": {},
   "outputs": [
    {
     "name": "stdout",
     "output_type": "stream",
     "text": [
      "download: s3://team75data/AAPL_sentiment.csv to tmp/AAPL_sentiment.csv\n",
      "download: s3://team75data/finance_data/AAPL.csv to tmp/finance_data/AAPL.csv\n",
      "download: s3://team75data/AMZN_sentiment.csv to tmp/AMZN_sentiment.csv\n",
      "download: s3://team75data/finance_data/AMZN.csv to tmp/finance_data/AMZN.csv\n",
      "download: s3://team75data/GOOGL_sentiment.csv to tmp/GOOGL_sentiment.csv\n",
      "download: s3://team75data/finance_data/GOOGL.csv to tmp/finance_data/GOOGL.csv\n",
      "download: s3://team75data/MSFT_sentiment.csv to tmp/MSFT_sentiment.csv\n",
      "download: s3://team75data/finance_data/MSFT.csv to tmp/finance_data/MSFT.csv\n",
      "download: s3://team75data/TSLA_sentiment.csv to tmp/TSLA_sentiment.csv\n",
      "download: s3://team75data/finance_data/TSLA.csv to tmp/finance_data/TSLA.csv\n"
     ]
    }
   ],
   "source": [
    "!aws s3 cp s3://team75data/AAPL_sentiment.csv /tmp/AAPL_sentiment.csv\n",
    "!aws s3 cp s3://team75data/finance_data/AAPL.csv /tmp/finance_data/AAPL.csv\n",
    "!aws s3 cp s3://team75data/AMZN_sentiment.csv /tmp/AMZN_sentiment.csv\n",
    "!aws s3 cp s3://team75data/finance_data/AMZN.csv /tmp/finance_data/AMZN.csv\n",
    "!aws s3 cp s3://team75data/GOOGL_sentiment.csv /tmp/GOOGL_sentiment.csv\n",
    "!aws s3 cp s3://team75data/finance_data/GOOGL.csv /tmp/finance_data/GOOGL.csv\n",
    "!aws s3 cp s3://team75data/MSFT_sentiment.csv /tmp/MSFT_sentiment.csv\n",
    "!aws s3 cp s3://team75data/finance_data/MSFT.csv /tmp/finance_data/MSFT.csv\n",
    "!aws s3 cp s3://team75data/TSLA_sentiment.csv /tmp/TSLA_sentiment.csv\n",
    "!aws s3 cp s3://team75data/finance_data/TSLA.csv /tmp/finance_data/TSLA.csv    "
   ]
  },
  {
   "cell_type": "markdown",
   "id": "8f4ef2c1",
   "metadata": {},
   "source": [
    "Rotate throught the different companies"
   ]
  },
  {
   "cell_type": "code",
   "execution_count": 3,
   "id": "brilliant-tomorrow",
   "metadata": {},
   "outputs": [],
   "source": [
    "#company = \"AAPL\"\n",
    "#company = \"AMZN\"\n",
    "company = \"GOOGL\"\n",
    "#company = \"MSFT\"\n",
    "#company = \"TSLA\""
   ]
  },
  {
   "cell_type": "markdown",
   "id": "524fc802",
   "metadata": {},
   "source": [
    "Load sentiment and financial data"
   ]
  },
  {
   "cell_type": "code",
   "execution_count": 4,
   "id": "prerequisite-shelter",
   "metadata": {},
   "outputs": [],
   "source": [
    "sentiment_df = pd.read_csv(\"/tmp/\"+company+\"_sentiment.csv\")\n",
    "finance_df = pd.read_csv(\"/tmp/finance_data/\"+company+\".csv\")"
   ]
  },
  {
   "cell_type": "code",
   "execution_count": 5,
   "id": "tested-franchise",
   "metadata": {},
   "outputs": [
    {
     "data": {
      "text/html": [
       "<div>\n",
       "<style scoped>\n",
       "    .dataframe tbody tr th:only-of-type {\n",
       "        vertical-align: middle;\n",
       "    }\n",
       "\n",
       "    .dataframe tbody tr th {\n",
       "        vertical-align: top;\n",
       "    }\n",
       "\n",
       "    .dataframe thead th {\n",
       "        text-align: right;\n",
       "    }\n",
       "</style>\n",
       "<table border=\"1\" class=\"dataframe\">\n",
       "  <thead>\n",
       "    <tr style=\"text-align: right;\">\n",
       "      <th></th>\n",
       "      <th>Unnamed: 0</th>\n",
       "      <th>ticker_symbol</th>\n",
       "      <th>tweet_id</th>\n",
       "      <th>writer</th>\n",
       "      <th>text</th>\n",
       "      <th>comment_num</th>\n",
       "      <th>retweet_num</th>\n",
       "      <th>like_num</th>\n",
       "      <th>company_name</th>\n",
       "      <th>sector</th>\n",
       "      <th>year</th>\n",
       "      <th>month</th>\n",
       "      <th>day</th>\n",
       "      <th>hour</th>\n",
       "      <th>sentiment</th>\n",
       "    </tr>\n",
       "  </thead>\n",
       "  <tbody>\n",
       "    <tr>\n",
       "      <th>0</th>\n",
       "      <td>129</td>\n",
       "      <td>GOOGL</td>\n",
       "      <td>1154702739332579329</td>\n",
       "      <td>SamUnsted</td>\n",
       "      <td>Google-owner Alphabet up 8.8% pre-mkt, implyin...</td>\n",
       "      <td>0</td>\n",
       "      <td>0</td>\n",
       "      <td>1</td>\n",
       "      <td>Google Inc</td>\n",
       "      <td>Communication Services</td>\n",
       "      <td>2019</td>\n",
       "      <td>7</td>\n",
       "      <td>26</td>\n",
       "      <td>7</td>\n",
       "      <td>1</td>\n",
       "    </tr>\n",
       "    <tr>\n",
       "      <th>1</th>\n",
       "      <td>156</td>\n",
       "      <td>GOOGL</td>\n",
       "      <td>692905805314703360</td>\n",
       "      <td>TalkMarkets</td>\n",
       "      <td>Amazon Earnings Miss, Blown Up A/H $AMZN $SPY ...</td>\n",
       "      <td>0</td>\n",
       "      <td>0</td>\n",
       "      <td>0</td>\n",
       "      <td>Google Inc</td>\n",
       "      <td>Communication Services</td>\n",
       "      <td>2016</td>\n",
       "      <td>1</td>\n",
       "      <td>29</td>\n",
       "      <td>0</td>\n",
       "      <td>1</td>\n",
       "    </tr>\n",
       "    <tr>\n",
       "      <th>2</th>\n",
       "      <td>191</td>\n",
       "      <td>GOOGL</td>\n",
       "      <td>880487914005823490</td>\n",
       "      <td>paszportWS</td>\n",
       "      <td>#Reklama #Google $GOOGL</td>\n",
       "      <td>0</td>\n",
       "      <td>0</td>\n",
       "      <td>0</td>\n",
       "      <td>Google Inc</td>\n",
       "      <td>Communication Services</td>\n",
       "      <td>2017</td>\n",
       "      <td>6</td>\n",
       "      <td>29</td>\n",
       "      <td>15</td>\n",
       "      <td>1</td>\n",
       "    </tr>\n",
       "    <tr>\n",
       "      <th>3</th>\n",
       "      <td>209</td>\n",
       "      <td>GOOGL</td>\n",
       "      <td>1025734366578855938</td>\n",
       "      <td>OptionAlarm</td>\n",
       "      <td>With past performance like this, how can you n...</td>\n",
       "      <td>0</td>\n",
       "      <td>0</td>\n",
       "      <td>1</td>\n",
       "      <td>Google Inc</td>\n",
       "      <td>Communication Services</td>\n",
       "      <td>2018</td>\n",
       "      <td>8</td>\n",
       "      <td>4</td>\n",
       "      <td>10</td>\n",
       "      <td>1</td>\n",
       "    </tr>\n",
       "    <tr>\n",
       "      <th>4</th>\n",
       "      <td>219</td>\n",
       "      <td>GOOGL</td>\n",
       "      <td>1115590243145535489</td>\n",
       "      <td>pancholig1</td>\n",
       "      <td>Top Video Game Stocks for 2019 and Beyond @the...</td>\n",
       "      <td>0</td>\n",
       "      <td>0</td>\n",
       "      <td>0</td>\n",
       "      <td>Google Inc</td>\n",
       "      <td>Communication Services</td>\n",
       "      <td>2019</td>\n",
       "      <td>4</td>\n",
       "      <td>9</td>\n",
       "      <td>9</td>\n",
       "      <td>1</td>\n",
       "    </tr>\n",
       "  </tbody>\n",
       "</table>\n",
       "</div>"
      ],
      "text/plain": [
       "   Unnamed: 0 ticker_symbol             tweet_id       writer  \\\n",
       "0         129         GOOGL  1154702739332579329    SamUnsted   \n",
       "1         156         GOOGL   692905805314703360  TalkMarkets   \n",
       "2         191         GOOGL   880487914005823490   paszportWS   \n",
       "3         209         GOOGL  1025734366578855938  OptionAlarm   \n",
       "4         219         GOOGL  1115590243145535489   pancholig1   \n",
       "\n",
       "                                                text  comment_num  \\\n",
       "0  Google-owner Alphabet up 8.8% pre-mkt, implyin...            0   \n",
       "1  Amazon Earnings Miss, Blown Up A/H $AMZN $SPY ...            0   \n",
       "2                            #Reklama #Google $GOOGL            0   \n",
       "3  With past performance like this, how can you n...            0   \n",
       "4  Top Video Game Stocks for 2019 and Beyond @the...            0   \n",
       "\n",
       "   retweet_num  like_num company_name                  sector  year  month  \\\n",
       "0            0         1   Google Inc  Communication Services  2019      7   \n",
       "1            0         0   Google Inc  Communication Services  2016      1   \n",
       "2            0         0   Google Inc  Communication Services  2017      6   \n",
       "3            0         1   Google Inc  Communication Services  2018      8   \n",
       "4            0         0   Google Inc  Communication Services  2019      4   \n",
       "\n",
       "   day  hour  sentiment  \n",
       "0   26     7          1  \n",
       "1   29     0          1  \n",
       "2   29    15          1  \n",
       "3    4    10          1  \n",
       "4    9     9          1  "
      ]
     },
     "execution_count": 5,
     "metadata": {},
     "output_type": "execute_result"
    }
   ],
   "source": [
    "sentiment_df.head()"
   ]
  },
  {
   "cell_type": "markdown",
   "id": "a2d5d5b9",
   "metadata": {},
   "source": [
    "Select some columns"
   ]
  },
  {
   "cell_type": "code",
   "execution_count": 6,
   "id": "verbal-popularity",
   "metadata": {},
   "outputs": [],
   "source": [
    "sentiment_df_trim = sentiment_df[[\"writer\", \"year\", \"month\", \"day\", \"sentiment\"]]"
   ]
  },
  {
   "cell_type": "code",
   "execution_count": 7,
   "id": "respected-avatar",
   "metadata": {},
   "outputs": [
    {
     "data": {
      "text/html": [
       "<div>\n",
       "<style scoped>\n",
       "    .dataframe tbody tr th:only-of-type {\n",
       "        vertical-align: middle;\n",
       "    }\n",
       "\n",
       "    .dataframe tbody tr th {\n",
       "        vertical-align: top;\n",
       "    }\n",
       "\n",
       "    .dataframe thead th {\n",
       "        text-align: right;\n",
       "    }\n",
       "</style>\n",
       "<table border=\"1\" class=\"dataframe\">\n",
       "  <thead>\n",
       "    <tr style=\"text-align: right;\">\n",
       "      <th></th>\n",
       "      <th>year</th>\n",
       "      <th>month</th>\n",
       "      <th>day</th>\n",
       "      <th>sentiment</th>\n",
       "    </tr>\n",
       "  </thead>\n",
       "  <tbody>\n",
       "    <tr>\n",
       "      <th>count</th>\n",
       "      <td>320503.000000</td>\n",
       "      <td>320503.000000</td>\n",
       "      <td>320503.000000</td>\n",
       "      <td>320503.000000</td>\n",
       "    </tr>\n",
       "    <tr>\n",
       "      <th>mean</th>\n",
       "      <td>2016.923916</td>\n",
       "      <td>6.434564</td>\n",
       "      <td>16.180045</td>\n",
       "      <td>0.856965</td>\n",
       "    </tr>\n",
       "    <tr>\n",
       "      <th>std</th>\n",
       "      <td>1.443779</td>\n",
       "      <td>3.318309</td>\n",
       "      <td>8.968502</td>\n",
       "      <td>0.350109</td>\n",
       "    </tr>\n",
       "    <tr>\n",
       "      <th>min</th>\n",
       "      <td>2014.000000</td>\n",
       "      <td>1.000000</td>\n",
       "      <td>1.000000</td>\n",
       "      <td>0.000000</td>\n",
       "    </tr>\n",
       "    <tr>\n",
       "      <th>25%</th>\n",
       "      <td>2016.000000</td>\n",
       "      <td>4.000000</td>\n",
       "      <td>8.000000</td>\n",
       "      <td>1.000000</td>\n",
       "    </tr>\n",
       "    <tr>\n",
       "      <th>50%</th>\n",
       "      <td>2017.000000</td>\n",
       "      <td>7.000000</td>\n",
       "      <td>17.000000</td>\n",
       "      <td>1.000000</td>\n",
       "    </tr>\n",
       "    <tr>\n",
       "      <th>75%</th>\n",
       "      <td>2018.000000</td>\n",
       "      <td>9.000000</td>\n",
       "      <td>24.000000</td>\n",
       "      <td>1.000000</td>\n",
       "    </tr>\n",
       "    <tr>\n",
       "      <th>max</th>\n",
       "      <td>2021.000000</td>\n",
       "      <td>12.000000</td>\n",
       "      <td>31.000000</td>\n",
       "      <td>1.000000</td>\n",
       "    </tr>\n",
       "  </tbody>\n",
       "</table>\n",
       "</div>"
      ],
      "text/plain": [
       "                year          month            day      sentiment\n",
       "count  320503.000000  320503.000000  320503.000000  320503.000000\n",
       "mean     2016.923916       6.434564      16.180045       0.856965\n",
       "std         1.443779       3.318309       8.968502       0.350109\n",
       "min      2014.000000       1.000000       1.000000       0.000000\n",
       "25%      2016.000000       4.000000       8.000000       1.000000\n",
       "50%      2017.000000       7.000000      17.000000       1.000000\n",
       "75%      2018.000000       9.000000      24.000000       1.000000\n",
       "max      2021.000000      12.000000      31.000000       1.000000"
      ]
     },
     "execution_count": 7,
     "metadata": {},
     "output_type": "execute_result"
    }
   ],
   "source": [
    "sentiment_df_trim.describe()"
   ]
  },
  {
   "cell_type": "code",
   "execution_count": 8,
   "id": "adolescent-support",
   "metadata": {},
   "outputs": [],
   "source": [
    "finance_df_trim = finance_df[[\"Date\", \"Open\", \"Close\"]]"
   ]
  },
  {
   "cell_type": "code",
   "execution_count": 9,
   "id": "welcome-joshua",
   "metadata": {},
   "outputs": [
    {
     "name": "stderr",
     "output_type": "stream",
     "text": [
      "/emr/notebook-env/lib/python3.7/site-packages/ipykernel_launcher.py:1: SettingWithCopyWarning: \n",
      "A value is trying to be set on a copy of a slice from a DataFrame.\n",
      "Try using .loc[row_indexer,col_indexer] = value instead\n",
      "\n",
      "See the caveats in the documentation: https://pandas.pydata.org/pandas-docs/stable/user_guide/indexing.html#returning-a-view-versus-a-copy\n",
      "  \"\"\"Entry point for launching an IPython kernel.\n"
     ]
    }
   ],
   "source": [
    "finance_df_trim[\"Delta\"] = finance_df_trim.Close - finance_df_trim.Open"
   ]
  },
  {
   "cell_type": "code",
   "execution_count": 10,
   "id": "fallen-intent",
   "metadata": {},
   "outputs": [
    {
     "name": "stderr",
     "output_type": "stream",
     "text": [
      "/emr/notebook-env/lib/python3.7/site-packages/ipykernel_launcher.py:8: SettingWithCopyWarning: \n",
      "A value is trying to be set on a copy of a slice from a DataFrame.\n",
      "Try using .loc[row_indexer,col_indexer] = value instead\n",
      "\n",
      "See the caveats in the documentation: https://pandas.pydata.org/pandas-docs/stable/user_guide/indexing.html#returning-a-view-versus-a-copy\n",
      "  \n"
     ]
    }
   ],
   "source": [
    "def sign(value):\n",
    "    # Calculate delta sign\n",
    "    if value >= 0:\n",
    "        return 1\n",
    "    else:\n",
    "        return 0\n",
    "\n",
    "finance_df_trim[\"Delta_sign\"] = finance_df_trim.apply(lambda row: sign(row.Delta), axis=1)"
   ]
  },
  {
   "cell_type": "code",
   "execution_count": 11,
   "id": "military-nothing",
   "metadata": {},
   "outputs": [
    {
     "name": "stderr",
     "output_type": "stream",
     "text": [
      "/emr/notebook-env/lib/python3.7/site-packages/ipykernel_launcher.py:10: SettingWithCopyWarning: \n",
      "A value is trying to be set on a copy of a slice from a DataFrame.\n",
      "Try using .loc[row_indexer,col_indexer] = value instead\n",
      "\n",
      "See the caveats in the documentation: https://pandas.pydata.org/pandas-docs/stable/user_guide/indexing.html#returning-a-view-versus-a-copy\n",
      "  # Remove the CWD from sys.path while we load stuff.\n"
     ]
    }
   ],
   "source": [
    "def make_date(year, month, day):\n",
    "    # Create date in the same format as the finance dataset\n",
    "    if len(str(day)) == 1:\n",
    "        day = \"0\" + str(day)\n",
    "    if len(str(month)) == 1:\n",
    "        month = \"0\" + str(month)\n",
    "        \n",
    "    return str(year) + \"-\" + str(month) + \"-\" + str(day)\n",
    "\n",
    "sentiment_df_trim[\"Date\"] = sentiment_df_trim.apply(lambda row: make_date(row.year, row.month, row.day), axis=1)\n",
    "\n",
    "sentiment_df_trim = sentiment_df_trim[[\"writer\", \"sentiment\", \"Date\"]]"
   ]
  },
  {
   "cell_type": "code",
   "execution_count": 12,
   "id": "short-charter",
   "metadata": {},
   "outputs": [],
   "source": [
    "finance_df_trim = finance_df_trim[[\"Date\", \"Delta_sign\"]]"
   ]
  },
  {
   "cell_type": "code",
   "execution_count": 13,
   "id": "printable-theorem",
   "metadata": {},
   "outputs": [],
   "source": [
    "finance_df_trim['Date'] = finance_df_trim['Date'].astype(str)\n",
    "sentiment_df_trim['Date'] = sentiment_df_trim['Date'].astype(str)"
   ]
  },
  {
   "cell_type": "code",
   "execution_count": 14,
   "id": "executed-accident",
   "metadata": {},
   "outputs": [],
   "source": [
    "merged_sentiment_and_delta = pd.merge(sentiment_df_trim, finance_df_trim, how='left')"
   ]
  },
  {
   "cell_type": "code",
   "execution_count": 15,
   "id": "developed-member",
   "metadata": {},
   "outputs": [],
   "source": [
    "writers = merged_sentiment_and_delta[[\"writer\"]]"
   ]
  },
  {
   "cell_type": "code",
   "execution_count": 16,
   "id": "massive-aluminum",
   "metadata": {},
   "outputs": [],
   "source": [
    "number_of_tweets = writers.groupby(\"writer\").size().reset_index(name='Tweets')"
   ]
  },
  {
   "cell_type": "markdown",
   "id": "7f259ec3",
   "metadata": {},
   "source": [
    "Keep only writers that write often (over 150 tweets)."
   ]
  },
  {
   "cell_type": "code",
   "execution_count": 17,
   "id": "interpreted-electronics",
   "metadata": {},
   "outputs": [],
   "source": [
    "authors = list(number_of_tweets[number_of_tweets['Tweets'] > 150].writer)"
   ]
  },
  {
   "cell_type": "code",
   "execution_count": 18,
   "id": "recognized-missile",
   "metadata": {},
   "outputs": [
    {
     "data": {
      "text/html": [
       "<div>\n",
       "<style scoped>\n",
       "    .dataframe tbody tr th:only-of-type {\n",
       "        vertical-align: middle;\n",
       "    }\n",
       "\n",
       "    .dataframe tbody tr th {\n",
       "        vertical-align: top;\n",
       "    }\n",
       "\n",
       "    .dataframe thead th {\n",
       "        text-align: right;\n",
       "    }\n",
       "</style>\n",
       "<table border=\"1\" class=\"dataframe\">\n",
       "  <thead>\n",
       "    <tr style=\"text-align: right;\">\n",
       "      <th></th>\n",
       "      <th>writer</th>\n",
       "      <th>sentiment</th>\n",
       "      <th>Date</th>\n",
       "      <th>Delta_sign</th>\n",
       "    </tr>\n",
       "  </thead>\n",
       "  <tbody>\n",
       "    <tr>\n",
       "      <th>1</th>\n",
       "      <td>TalkMarkets</td>\n",
       "      <td>1</td>\n",
       "      <td>2016-01-29</td>\n",
       "      <td>1.0</td>\n",
       "    </tr>\n",
       "    <tr>\n",
       "      <th>3</th>\n",
       "      <td>OptionAlarm</td>\n",
       "      <td>1</td>\n",
       "      <td>2018-08-04</td>\n",
       "      <td>NaN</td>\n",
       "    </tr>\n",
       "    <tr>\n",
       "      <th>6</th>\n",
       "      <td>businessinsider</td>\n",
       "      <td>1</td>\n",
       "      <td>2016-09-23</td>\n",
       "      <td>0.0</td>\n",
       "    </tr>\n",
       "    <tr>\n",
       "      <th>11</th>\n",
       "      <td>OACtrading</td>\n",
       "      <td>1</td>\n",
       "      <td>2019-01-27</td>\n",
       "      <td>NaN</td>\n",
       "    </tr>\n",
       "    <tr>\n",
       "      <th>16</th>\n",
       "      <td>FinInvTr</td>\n",
       "      <td>1</td>\n",
       "      <td>2017-11-30</td>\n",
       "      <td>0.0</td>\n",
       "    </tr>\n",
       "    <tr>\n",
       "      <th>...</th>\n",
       "      <td>...</td>\n",
       "      <td>...</td>\n",
       "      <td>...</td>\n",
       "      <td>...</td>\n",
       "    </tr>\n",
       "    <tr>\n",
       "      <th>320494</th>\n",
       "      <td>OACtrading</td>\n",
       "      <td>1</td>\n",
       "      <td>2018-11-07</td>\n",
       "      <td>1.0</td>\n",
       "    </tr>\n",
       "    <tr>\n",
       "      <th>320496</th>\n",
       "      <td>stockspastor</td>\n",
       "      <td>1</td>\n",
       "      <td>2019-03-18</td>\n",
       "      <td>0.0</td>\n",
       "    </tr>\n",
       "    <tr>\n",
       "      <th>320498</th>\n",
       "      <td>EliteOptionSwap</td>\n",
       "      <td>1</td>\n",
       "      <td>2019-05-23</td>\n",
       "      <td>0.0</td>\n",
       "    </tr>\n",
       "    <tr>\n",
       "      <th>320500</th>\n",
       "      <td>clayton_dd</td>\n",
       "      <td>1</td>\n",
       "      <td>2015-09-27</td>\n",
       "      <td>NaN</td>\n",
       "    </tr>\n",
       "    <tr>\n",
       "      <th>320502</th>\n",
       "      <td>SeekingAlpha</td>\n",
       "      <td>1</td>\n",
       "      <td>2017-09-23</td>\n",
       "      <td>NaN</td>\n",
       "    </tr>\n",
       "  </tbody>\n",
       "</table>\n",
       "<p>196997 rows × 4 columns</p>\n",
       "</div>"
      ],
      "text/plain": [
       "                 writer  sentiment        Date  Delta_sign\n",
       "1           TalkMarkets          1  2016-01-29         1.0\n",
       "3           OptionAlarm          1  2018-08-04         NaN\n",
       "6       businessinsider          1  2016-09-23         0.0\n",
       "11           OACtrading          1  2019-01-27         NaN\n",
       "16             FinInvTr          1  2017-11-30         0.0\n",
       "...                 ...        ...         ...         ...\n",
       "320494       OACtrading          1  2018-11-07         1.0\n",
       "320496     stockspastor          1  2019-03-18         0.0\n",
       "320498  EliteOptionSwap          1  2019-05-23         0.0\n",
       "320500       clayton_dd          1  2015-09-27         NaN\n",
       "320502     SeekingAlpha          1  2017-09-23         NaN\n",
       "\n",
       "[196997 rows x 4 columns]"
      ]
     },
     "execution_count": 18,
     "metadata": {},
     "output_type": "execute_result"
    }
   ],
   "source": [
    "merged_sentiment_and_delta[merged_sentiment_and_delta.writer.isin(authors)]"
   ]
  },
  {
   "cell_type": "code",
   "execution_count": 19,
   "id": "theoretical-brave",
   "metadata": {},
   "outputs": [],
   "source": [
    "author_correlations = {}\n",
    "for author in authors:\n",
    "    tmp = merged_sentiment_and_delta[merged_sentiment_and_delta.writer == author].dropna()\n",
    "    a = tmp[[\"sentiment\", \"Delta_sign\"]].corr()[\"sentiment\"][\"Delta_sign\"]\n",
    "    author_correlations[author] = a"
   ]
  },
  {
   "cell_type": "code",
   "execution_count": 20,
   "id": "generous-johnston",
   "metadata": {},
   "outputs": [
    {
     "data": {
      "text/plain": [
       "[('Terri1618', 0.21813530471996911),\n",
       " ('SunAndStormInv', 0.20443085178626252),\n",
       " ('andrewross11', 0.19995229072207096),\n",
       " ('HedgeBz', 0.19940936336117157),\n",
       " ('zen_n_trade', 0.18140157331255047),\n",
       " ('OptionSamurai', 0.18122861779254498),\n",
       " ('Mr_MoonStocks', 0.17768008300898774),\n",
       " ('Tickeron', 0.17170902802382237),\n",
       " ('LlcBillionaire', 0.16246792326664972),\n",
       " ('Trading_Analyst', 0.15554640283564644)]"
      ]
     },
     "execution_count": 20,
     "metadata": {},
     "output_type": "execute_result"
    }
   ],
   "source": [
    "import operator\n",
    "\n",
    "best_authors = []\n",
    "for i in range(10):\n",
    "    author = max(author_correlations.items(), key=operator.itemgetter(1))\n",
    "    best_authors.append(author)\n",
    "    author_correlations.pop(author[0], None)\n",
    "\n",
    "best_authors"
   ]
  },
  {
   "cell_type": "code",
   "execution_count": 21,
   "id": "selective-feeling",
   "metadata": {},
   "outputs": [
    {
     "name": "stdout",
     "output_type": "stream",
     "text": [
      "company,usr_handle,correlation,tweet_count\n",
      "GOOGL,Terri1618,0.21813530471996911,194.0\n",
      "GOOGL,SunAndStormInv,0.20443085178626252,181.0\n",
      "GOOGL,andrewross11,0.19995229072207096,229.0\n",
      "GOOGL,HedgeBz,0.19940936336117157,224.0\n",
      "GOOGL,zen_n_trade,0.18140157331255047,157.0\n",
      "GOOGL,OptionSamurai,0.18122861779254498,180.0\n",
      "GOOGL,Mr_MoonStocks,0.17768008300898774,151.0\n",
      "GOOGL,Tickeron,0.17170902802382237,173.0\n",
      "GOOGL,LlcBillionaire,0.16246792326664972,176.0\n",
      "GOOGL,Trading_Analyst,0.15554640283564644,500.0\n"
     ]
    }
   ],
   "source": [
    "print(\"company,usr_handle,correlation,tweet_count\")\n",
    "for author in best_authors:\n",
    "    print(company + \",\" + author[0] + \",\" + str(author[1]) + \",\" + str(float(number_of_tweets[number_of_tweets[\"writer\"] == author[0]][\"Tweets\"]))) \n",
    "    "
   ]
  },
  {
   "cell_type": "code",
   "execution_count": null,
   "id": "c67bcb45",
   "metadata": {},
   "outputs": [],
   "source": []
  }
 ],
 "metadata": {
  "kernelspec": {
   "display_name": "Python 3",
   "language": "python",
   "name": "python3"
  },
  "language_info": {
   "codemirror_mode": {
    "name": "ipython",
    "version": 3
   },
   "file_extension": ".py",
   "mimetype": "text/x-python",
   "name": "python",
   "nbconvert_exporter": "python",
   "pygments_lexer": "ipython3",
   "version": "3.7.4"
  }
 },
 "nbformat": 4,
 "nbformat_minor": 5
}
